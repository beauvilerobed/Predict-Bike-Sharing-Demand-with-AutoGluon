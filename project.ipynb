{
 "cells": [
  {
   "cell_type": "markdown",
   "metadata": {},
   "source": [
    "# Predict Bike Sharing Demand with AutoGluon Template"
   ]
  },
  {
   "cell_type": "markdown",
   "metadata": {},
   "source": [
    "## Project: Predict Bike Sharing Demand with AutoGluon\n",
    "This notebook is a template with each step that you need to complete for the project.\n",
    "\n",
    "Please fill in your code where there are explicit `?` markers in the notebook. You are welcome to add more cells and code as you see fit.\n",
    "\n",
    "Once you have completed all the code implementations, please export your notebook as a HTML file so the reviews can view your code. Make sure you have all outputs correctly outputted.\n",
    "\n",
    "`File-> Export Notebook As... -> Export Notebook as HTML`\n",
    "\n",
    "There is a writeup to complete as well after all code implememtation is done. Please answer all questions and attach the necessary tables and charts. You can complete the writeup in either markdown or PDF.\n",
    "\n",
    "Completing the code template and writeup template will cover all of the rubric points for this project.\n",
    "\n",
    "The rubric contains \"Stand Out Suggestions\" for enhancing the project beyond the minimum requirements. The stand out suggestions are optional. If you decide to pursue the \"stand out suggestions\", you can include the code in this notebook and also discuss the results in the writeup file."
   ]
  },
  {
   "cell_type": "code",
   "execution_count": 1,
   "metadata": {},
   "outputs": [],
   "source": [
    "import pandas as pd\n",
    "from autogluon.tabular import TabularPredictor"
   ]
  },
  {
   "cell_type": "code",
   "execution_count": 2,
   "metadata": {},
   "outputs": [
    {
     "data": {
      "text/html": [
       "<div>\n",
       "<style scoped>\n",
       "    .dataframe tbody tr th:only-of-type {\n",
       "        vertical-align: middle;\n",
       "    }\n",
       "\n",
       "    .dataframe tbody tr th {\n",
       "        vertical-align: top;\n",
       "    }\n",
       "\n",
       "    .dataframe thead th {\n",
       "        text-align: right;\n",
       "    }\n",
       "</style>\n",
       "<table border=\"1\" class=\"dataframe\">\n",
       "  <thead>\n",
       "    <tr style=\"text-align: right;\">\n",
       "      <th></th>\n",
       "      <th>datetime</th>\n",
       "      <th>season</th>\n",
       "      <th>holiday</th>\n",
       "      <th>workingday</th>\n",
       "      <th>weather</th>\n",
       "      <th>temp</th>\n",
       "      <th>atemp</th>\n",
       "      <th>humidity</th>\n",
       "      <th>windspeed</th>\n",
       "      <th>casual</th>\n",
       "      <th>registered</th>\n",
       "      <th>count</th>\n",
       "    </tr>\n",
       "  </thead>\n",
       "  <tbody>\n",
       "    <tr>\n",
       "      <th>0</th>\n",
       "      <td>2011-01-01 00:00:00</td>\n",
       "      <td>1</td>\n",
       "      <td>0</td>\n",
       "      <td>0</td>\n",
       "      <td>1</td>\n",
       "      <td>9.84</td>\n",
       "      <td>14.395</td>\n",
       "      <td>81</td>\n",
       "      <td>0.0</td>\n",
       "      <td>3</td>\n",
       "      <td>13</td>\n",
       "      <td>16</td>\n",
       "    </tr>\n",
       "    <tr>\n",
       "      <th>1</th>\n",
       "      <td>2011-01-01 01:00:00</td>\n",
       "      <td>1</td>\n",
       "      <td>0</td>\n",
       "      <td>0</td>\n",
       "      <td>1</td>\n",
       "      <td>9.02</td>\n",
       "      <td>13.635</td>\n",
       "      <td>80</td>\n",
       "      <td>0.0</td>\n",
       "      <td>8</td>\n",
       "      <td>32</td>\n",
       "      <td>40</td>\n",
       "    </tr>\n",
       "    <tr>\n",
       "      <th>2</th>\n",
       "      <td>2011-01-01 02:00:00</td>\n",
       "      <td>1</td>\n",
       "      <td>0</td>\n",
       "      <td>0</td>\n",
       "      <td>1</td>\n",
       "      <td>9.02</td>\n",
       "      <td>13.635</td>\n",
       "      <td>80</td>\n",
       "      <td>0.0</td>\n",
       "      <td>5</td>\n",
       "      <td>27</td>\n",
       "      <td>32</td>\n",
       "    </tr>\n",
       "    <tr>\n",
       "      <th>3</th>\n",
       "      <td>2011-01-01 03:00:00</td>\n",
       "      <td>1</td>\n",
       "      <td>0</td>\n",
       "      <td>0</td>\n",
       "      <td>1</td>\n",
       "      <td>9.84</td>\n",
       "      <td>14.395</td>\n",
       "      <td>75</td>\n",
       "      <td>0.0</td>\n",
       "      <td>3</td>\n",
       "      <td>10</td>\n",
       "      <td>13</td>\n",
       "    </tr>\n",
       "    <tr>\n",
       "      <th>4</th>\n",
       "      <td>2011-01-01 04:00:00</td>\n",
       "      <td>1</td>\n",
       "      <td>0</td>\n",
       "      <td>0</td>\n",
       "      <td>1</td>\n",
       "      <td>9.84</td>\n",
       "      <td>14.395</td>\n",
       "      <td>75</td>\n",
       "      <td>0.0</td>\n",
       "      <td>0</td>\n",
       "      <td>1</td>\n",
       "      <td>1</td>\n",
       "    </tr>\n",
       "  </tbody>\n",
       "</table>\n",
       "</div>"
      ],
      "text/plain": [
       "             datetime  season  holiday  workingday  weather  temp   atemp  \\\n",
       "0 2011-01-01 00:00:00       1        0           0        1  9.84  14.395   \n",
       "1 2011-01-01 01:00:00       1        0           0        1  9.02  13.635   \n",
       "2 2011-01-01 02:00:00       1        0           0        1  9.02  13.635   \n",
       "3 2011-01-01 03:00:00       1        0           0        1  9.84  14.395   \n",
       "4 2011-01-01 04:00:00       1        0           0        1  9.84  14.395   \n",
       "\n",
       "   humidity  windspeed  casual  registered  count  \n",
       "0        81        0.0       3          13     16  \n",
       "1        80        0.0       8          32     40  \n",
       "2        80        0.0       5          27     32  \n",
       "3        75        0.0       3          10     13  \n",
       "4        75        0.0       0           1      1  "
      ]
     },
     "execution_count": 2,
     "metadata": {},
     "output_type": "execute_result"
    }
   ],
   "source": [
    "# Create the train dataset in pandas by reading the csv\n",
    "# Set the parsing of the datetime column so you can use some of the `dt` features in pandas later\n",
    "train = pd.read_csv('train.csv', parse_dates=['datetime'])\n",
    "train.head()"
   ]
  },
  {
   "cell_type": "code",
   "execution_count": 3,
   "metadata": {},
   "outputs": [],
   "source": [
    "# Simple output of the train dataset to view some of the min/max/varition of the dataset features."
   ]
  },
  {
   "cell_type": "code",
   "execution_count": 4,
   "metadata": {},
   "outputs": [
    {
     "data": {
      "text/html": [
       "<div>\n",
       "<style scoped>\n",
       "    .dataframe tbody tr th:only-of-type {\n",
       "        vertical-align: middle;\n",
       "    }\n",
       "\n",
       "    .dataframe tbody tr th {\n",
       "        vertical-align: top;\n",
       "    }\n",
       "\n",
       "    .dataframe thead th {\n",
       "        text-align: right;\n",
       "    }\n",
       "</style>\n",
       "<table border=\"1\" class=\"dataframe\">\n",
       "  <thead>\n",
       "    <tr style=\"text-align: right;\">\n",
       "      <th></th>\n",
       "      <th>datetime</th>\n",
       "      <th>season</th>\n",
       "      <th>holiday</th>\n",
       "      <th>workingday</th>\n",
       "      <th>weather</th>\n",
       "      <th>temp</th>\n",
       "      <th>atemp</th>\n",
       "      <th>humidity</th>\n",
       "      <th>windspeed</th>\n",
       "    </tr>\n",
       "  </thead>\n",
       "  <tbody>\n",
       "    <tr>\n",
       "      <th>0</th>\n",
       "      <td>2011-01-20 00:00:00</td>\n",
       "      <td>1</td>\n",
       "      <td>0</td>\n",
       "      <td>1</td>\n",
       "      <td>1</td>\n",
       "      <td>10.66</td>\n",
       "      <td>11.365</td>\n",
       "      <td>56</td>\n",
       "      <td>26.0027</td>\n",
       "    </tr>\n",
       "    <tr>\n",
       "      <th>1</th>\n",
       "      <td>2011-01-20 01:00:00</td>\n",
       "      <td>1</td>\n",
       "      <td>0</td>\n",
       "      <td>1</td>\n",
       "      <td>1</td>\n",
       "      <td>10.66</td>\n",
       "      <td>13.635</td>\n",
       "      <td>56</td>\n",
       "      <td>0.0000</td>\n",
       "    </tr>\n",
       "    <tr>\n",
       "      <th>2</th>\n",
       "      <td>2011-01-20 02:00:00</td>\n",
       "      <td>1</td>\n",
       "      <td>0</td>\n",
       "      <td>1</td>\n",
       "      <td>1</td>\n",
       "      <td>10.66</td>\n",
       "      <td>13.635</td>\n",
       "      <td>56</td>\n",
       "      <td>0.0000</td>\n",
       "    </tr>\n",
       "    <tr>\n",
       "      <th>3</th>\n",
       "      <td>2011-01-20 03:00:00</td>\n",
       "      <td>1</td>\n",
       "      <td>0</td>\n",
       "      <td>1</td>\n",
       "      <td>1</td>\n",
       "      <td>10.66</td>\n",
       "      <td>12.880</td>\n",
       "      <td>56</td>\n",
       "      <td>11.0014</td>\n",
       "    </tr>\n",
       "    <tr>\n",
       "      <th>4</th>\n",
       "      <td>2011-01-20 04:00:00</td>\n",
       "      <td>1</td>\n",
       "      <td>0</td>\n",
       "      <td>1</td>\n",
       "      <td>1</td>\n",
       "      <td>10.66</td>\n",
       "      <td>12.880</td>\n",
       "      <td>56</td>\n",
       "      <td>11.0014</td>\n",
       "    </tr>\n",
       "  </tbody>\n",
       "</table>\n",
       "</div>"
      ],
      "text/plain": [
       "             datetime  season  holiday  workingday  weather   temp   atemp  \\\n",
       "0 2011-01-20 00:00:00       1        0           1        1  10.66  11.365   \n",
       "1 2011-01-20 01:00:00       1        0           1        1  10.66  13.635   \n",
       "2 2011-01-20 02:00:00       1        0           1        1  10.66  13.635   \n",
       "3 2011-01-20 03:00:00       1        0           1        1  10.66  12.880   \n",
       "4 2011-01-20 04:00:00       1        0           1        1  10.66  12.880   \n",
       "\n",
       "   humidity  windspeed  \n",
       "0        56    26.0027  \n",
       "1        56     0.0000  \n",
       "2        56     0.0000  \n",
       "3        56    11.0014  \n",
       "4        56    11.0014  "
      ]
     },
     "execution_count": 4,
     "metadata": {},
     "output_type": "execute_result"
    }
   ],
   "source": [
    "# Create the test pandas dataframe in pandas by reading the csv, remember to parse the datetime!\n",
    "test = pd.read_csv('test.csv', parse_dates=['datetime'])\n",
    "test.head()"
   ]
  },
  {
   "cell_type": "code",
   "execution_count": 5,
   "metadata": {},
   "outputs": [
    {
     "data": {
      "text/html": [
       "<div>\n",
       "<style scoped>\n",
       "    .dataframe tbody tr th:only-of-type {\n",
       "        vertical-align: middle;\n",
       "    }\n",
       "\n",
       "    .dataframe tbody tr th {\n",
       "        vertical-align: top;\n",
       "    }\n",
       "\n",
       "    .dataframe thead th {\n",
       "        text-align: right;\n",
       "    }\n",
       "</style>\n",
       "<table border=\"1\" class=\"dataframe\">\n",
       "  <thead>\n",
       "    <tr style=\"text-align: right;\">\n",
       "      <th></th>\n",
       "      <th>datetime</th>\n",
       "      <th>count</th>\n",
       "    </tr>\n",
       "  </thead>\n",
       "  <tbody>\n",
       "    <tr>\n",
       "      <th>0</th>\n",
       "      <td>2011-01-20 00:00:00</td>\n",
       "      <td>0</td>\n",
       "    </tr>\n",
       "    <tr>\n",
       "      <th>1</th>\n",
       "      <td>2011-01-20 01:00:00</td>\n",
       "      <td>0</td>\n",
       "    </tr>\n",
       "    <tr>\n",
       "      <th>2</th>\n",
       "      <td>2011-01-20 02:00:00</td>\n",
       "      <td>0</td>\n",
       "    </tr>\n",
       "    <tr>\n",
       "      <th>3</th>\n",
       "      <td>2011-01-20 03:00:00</td>\n",
       "      <td>0</td>\n",
       "    </tr>\n",
       "    <tr>\n",
       "      <th>4</th>\n",
       "      <td>2011-01-20 04:00:00</td>\n",
       "      <td>0</td>\n",
       "    </tr>\n",
       "  </tbody>\n",
       "</table>\n",
       "</div>"
      ],
      "text/plain": [
       "             datetime  count\n",
       "0 2011-01-20 00:00:00      0\n",
       "1 2011-01-20 01:00:00      0\n",
       "2 2011-01-20 02:00:00      0\n",
       "3 2011-01-20 03:00:00      0\n",
       "4 2011-01-20 04:00:00      0"
      ]
     },
     "execution_count": 5,
     "metadata": {},
     "output_type": "execute_result"
    }
   ],
   "source": [
    "# Same thing as train and test dataset\n",
    "submission = pd.read_csv('sampleSubmission.csv', parse_dates=['datetime'])\n",
    "submission.head()"
   ]
  },
  {
   "cell_type": "markdown",
   "metadata": {},
   "source": [
    "## Step 3: Train a model using AutoGluon’s Tabular Prediction"
   ]
  },
  {
   "cell_type": "markdown",
   "metadata": {},
   "source": [
    "Requirements:\n",
    "* We are prediting `count`, so it is the label we are setting.\n",
    "* Ignore `casual` and `registered` columns as they are also not present in the test dataset. \n",
    "* Use the `root_mean_squared_error` as the metric to use for evaluation.\n",
    "* Set a time limit of 10 minutes (600 seconds).\n",
    "* Use the preset `best_quality` to focus on creating the best model."
   ]
  },
  {
   "cell_type": "code",
   "execution_count": 64,
   "metadata": {},
   "outputs": [
    {
     "name": "stderr",
     "output_type": "stream",
     "text": [
      "No path specified. Models will be saved in: \"AutogluonModels/ag-20211130_003359/\"\n",
      "Presets specified: ['best_quality']\n",
      "Warning: hyperparameter tuning is currently experimental and may cause the process to hang.\n",
      "Beginning AutoGluon training ... Time limit = 600s\n",
      "AutoGluon will save models to \"AutogluonModels/ag-20211130_003359/\"\n",
      "AutoGluon Version:  0.3.1\n",
      "Train Data Rows:    10886\n",
      "Train Data Columns: 14\n",
      "Preprocessing data ...\n",
      "Using Feature Generators to preprocess the data ...\n",
      "Dropping user-specified ignored columns: ['casual', 'registered']\n",
      "Fitting AutoMLPipelineFeatureGenerator...\n",
      "\tAvailable Memory:                    3315.76 MB\n",
      "\tTrain Data (Original)  Memory Usage: 0.89 MB (0.0% of available memory)\n",
      "\tInferring data type of each feature based on column values. Set feature_metadata_in to manually specify special dtypes of the features.\n",
      "\tStage 1 Generators:\n",
      "\t\tFitting AsTypeFeatureGenerator...\n",
      "\t\t\tNote: Converting 3 features to boolean dtype as they only contain 2 unique values.\n",
      "\tStage 2 Generators:\n",
      "\t\tFitting FillNaFeatureGenerator...\n",
      "\tStage 3 Generators:\n",
      "\t\tFitting IdentityFeatureGenerator...\n",
      "\t\tFitting CategoryFeatureGenerator...\n",
      "\t\t\tFitting CategoryMemoryMinimizeFeatureGenerator...\n",
      "\t\tFitting DatetimeFeatureGenerator...\n",
      "\tStage 4 Generators:\n",
      "\t\tFitting DropUniqueFeatureGenerator...\n",
      "\tTypes of features in original data (raw dtype, special dtypes):\n",
      "\t\t('category', []) : 2 | ['season', 'weather']\n",
      "\t\t('datetime', []) : 1 | ['datetime']\n",
      "\t\t('float', [])    : 3 | ['temp', 'atemp', 'windspeed']\n",
      "\t\t('int', [])      : 6 | ['holiday', 'workingday', 'humidity', 'year', 'month', ...]\n",
      "\tTypes of features in processed data (raw dtype, special dtypes):\n",
      "\t\t('category', [])             : 2 | ['season', 'weather']\n",
      "\t\t('float', [])                : 3 | ['temp', 'atemp', 'windspeed']\n",
      "\t\t('int', [])                  : 3 | ['humidity', 'month', 'day']\n",
      "\t\t('int', ['bool'])            : 3 | ['holiday', 'workingday', 'year']\n",
      "\t\t('int', ['datetime_as_int']) : 1 | ['datetime']\n",
      "\t0.4s = Fit runtime\n",
      "\t12 features in original data used to generate 12 features in processed data.\n",
      "\tTrain Data (Processed) Memory Usage: 0.67 MB (0.0% of available memory)\n",
      "Data preprocessing and feature engineering runtime = 0.58s ...\n",
      "AutoGluon will gauge predictive performance using evaluation metric: 'root_mean_squared_error'\n",
      "\tTo change this, specify the eval_metric argument of fit()\n",
      "AutoGluon will fit 2 stack levels (L1 to L2) ...\n",
      "Fitting 2 L1 models ...\n",
      "Hyperparameter tuning model: LightGBM_BAG_L1 ...\n",
      "Warning: Exception caused LightGBM_BAG_L1 to fail during hyperparameter tuning... Skipping this model.\n",
      "Traceback (most recent call last):\n",
      "  File \"/Library/Frameworks/Python.framework/Versions/3.7/lib/python3.7/site-packages/autogluon/core/utils/try_import.py\", line 72, in try_import_lightgbm\n",
      "    import lightgbm\n",
      "  File \"/Library/Frameworks/Python.framework/Versions/3.7/lib/python3.7/site-packages/lightgbm/__init__.py\", line 8, in <module>\n",
      "    from .basic import Booster, Dataset, Sequence, register_logger\n",
      "  File \"/Library/Frameworks/Python.framework/Versions/3.7/lib/python3.7/site-packages/lightgbm/basic.py\", line 110, in <module>\n",
      "    _LIB = _load_lib()\n",
      "  File \"/Library/Frameworks/Python.framework/Versions/3.7/lib/python3.7/site-packages/lightgbm/basic.py\", line 101, in _load_lib\n",
      "    lib = ctypes.cdll.LoadLibrary(lib_path[0])\n",
      "  File \"/Library/Frameworks/Python.framework/Versions/3.7/lib/python3.7/ctypes/__init__.py\", line 434, in LoadLibrary\n",
      "    return self._dlltype(name)\n",
      "  File \"/Library/Frameworks/Python.framework/Versions/3.7/lib/python3.7/ctypes/__init__.py\", line 356, in __init__\n",
      "    self._handle = _dlopen(self._name, mode)\n",
      "OSError: dlopen(/Library/Frameworks/Python.framework/Versions/3.7/lib/python3.7/site-packages/lightgbm/lib_lightgbm.so, 6): Library not loaded: /usr/local/opt/libomp/lib/libomp.dylib\n",
      "  Referenced from: /Library/Frameworks/Python.framework/Versions/3.7/lib/python3.7/site-packages/lightgbm/lib_lightgbm.so\n",
      "  Reason: image not found\n",
      "\n",
      "During handling of the above exception, another exception occurred:\n",
      "\n",
      "Traceback (most recent call last):\n",
      "  File \"/Library/Frameworks/Python.framework/Versions/3.7/lib/python3.7/site-packages/autogluon/tabular/trainer/abstract_trainer.py\", line 1153, in _train_single_full\n",
      "    hpo_models, hpo_model_performances, hpo_results = model.hyperparameter_tune(X=X, y=y, k_fold=k_fold, scheduler_options=hyperparameter_tune_kwargs, **model_fit_kwargs)\n",
      "  File \"/Library/Frameworks/Python.framework/Versions/3.7/lib/python3.7/site-packages/autogluon/core/models/abstract/abstract_model.py\", line 830, in hyperparameter_tune\n",
      "    return self._hyperparameter_tune(scheduler_options=scheduler_options, **kwargs)\n",
      "  File \"/Library/Frameworks/Python.framework/Versions/3.7/lib/python3.7/site-packages/autogluon/core/models/ensemble/stacker_ensemble_model.py\", line 179, in _hyperparameter_tune\n",
      "    return super()._hyperparameter_tune(X=X, y=y, k_fold=k_fold, scheduler_options=scheduler_options, preprocess_kwargs=preprocess_kwargs, **kwargs)\n",
      "  File \"/Library/Frameworks/Python.framework/Versions/3.7/lib/python3.7/site-packages/autogluon/core/models/ensemble/bagged_ensemble_model.py\", line 801, in _hyperparameter_tune\n",
      "    hpo_models, hpo_model_performances, hpo_results = self.model_base.hyperparameter_tune(X=X_fold, y=y_fold, X_val=X_val_fold, y_val=y_val_fold, scheduler_options=scheduler_options, **kwargs)\n",
      "  File \"/Library/Frameworks/Python.framework/Versions/3.7/lib/python3.7/site-packages/autogluon/core/models/abstract/abstract_model.py\", line 830, in hyperparameter_tune\n",
      "    return self._hyperparameter_tune(scheduler_options=scheduler_options, **kwargs)\n",
      "  File \"/Library/Frameworks/Python.framework/Versions/3.7/lib/python3.7/site-packages/autogluon/tabular/models/lgb/lgb_model.py\", line 348, in _hyperparameter_tune\n",
      "    dataset_train, dataset_val = self.generate_datasets(X=X, y=y, params=params_copy, X_val=X_val, y_val=y_val)\n",
      "  File \"/Library/Frameworks/Python.framework/Versions/3.7/lib/python3.7/site-packages/autogluon/tabular/models/lgb/lgb_model.py\", line 289, in generate_datasets\n",
      "    dataset_train = construct_dataset(x=X, y=y, location=f'{self.path}datasets{os.path.sep}train', params=data_params, save=save, weight=sample_weight)\n",
      "  File \"/Library/Frameworks/Python.framework/Versions/3.7/lib/python3.7/site-packages/autogluon/tabular/models/lgb/lgb_utils.py\", line 81, in construct_dataset\n",
      "    try_import_lightgbm()\n",
      "  File \"/Library/Frameworks/Python.framework/Versions/3.7/lib/python3.7/site-packages/autogluon/core/utils/try_import.py\", line 78, in try_import_lightgbm\n",
      "    \"Please try 'brew install libomp'. Detailed info: {}\".format(str(e)))\n",
      "ImportError: `import lightgbm` failed. If you are using Mac OSX, Please try 'brew install libomp'. Detailed info: dlopen(/Library/Frameworks/Python.framework/Versions/3.7/lib/python3.7/site-packages/lightgbm/lib_lightgbm.so, 6): Library not loaded: /usr/local/opt/libomp/lib/libomp.dylib\n",
      "  Referenced from: /Library/Frameworks/Python.framework/Versions/3.7/lib/python3.7/site-packages/lightgbm/lib_lightgbm.so\n",
      "  Reason: image not found\n",
      "`import lightgbm` failed. If you are using Mac OSX, Please try 'brew install libomp'. Detailed info: dlopen(/Library/Frameworks/Python.framework/Versions/3.7/lib/python3.7/site-packages/lightgbm/lib_lightgbm.so, 6): Library not loaded: /usr/local/opt/libomp/lib/libomp.dylib\n",
      "  Referenced from: /Library/Frameworks/Python.framework/Versions/3.7/lib/python3.7/site-packages/lightgbm/lib_lightgbm.so\n",
      "  Reason: image not found\n",
      "Hyperparameter tuning model: NeuralNetMXNet_BAG_L1 ...\n",
      "  0%|          | 0/5 [00:00<?, ?it/s]\tRan out of time, stopping training early. (Stopping on epoch 2)\n",
      "\tTime limit exceeded\n",
      "  0%|          | 0/5 [00:10<?, ?it/s]\n",
      "Fitted model: NeuralNetMXNet_BAG_L1/T0 ...\n",
      "\t-147.188\t = Validation score   (root_mean_squared_error)\n",
      "\t9.69s\t = Training   runtime\n",
      "\t0.11s\t = Validation runtime\n",
      "Fitting model: NeuralNetMXNet_BAG_L1/T0 ... Training model for up to 386.24s of the 586.14s of remaining time.\n",
      "\tRan out of time, stopping training early. (Stopping on epoch 13)\n",
      "\tRan out of time, stopping training early. (Stopping on epoch 12)\n",
      "\tRan out of time, stopping training early. (Stopping on epoch 12)\n",
      "\tRan out of time, stopping training early. (Stopping on epoch 13)\n",
      "\tRan out of time, stopping training early. (Stopping on epoch 16)\n",
      "\tRan out of time, stopping training early. (Stopping on epoch 15)\n",
      "\tRan out of time, stopping training early. (Stopping on epoch 17)\n",
      "\tRan out of time, stopping training early. (Stopping on epoch 19)\n",
      "\t-142.4176\t = Validation score   (root_mean_squared_error)\n",
      "\t369.31s\t = Training   runtime\n",
      "\t2.99s\t = Validation runtime\n",
      "Completed 1/20 k-fold bagging repeats ...\n",
      "Fitting model: WeightedEnsemble_L2 ... Training model for up to 360.0s of the 223.47s of remaining time.\n",
      "\t-142.4176\t = Validation score   (root_mean_squared_error)\n",
      "\t0.0s\t = Training   runtime\n",
      "\t0.0s\t = Validation runtime\n",
      "Fitting 2 L2 models ...\n",
      "Hyperparameter tuning model: LightGBM_BAG_L2 ...\n",
      "Warning: Exception caused LightGBM_BAG_L2 to fail during hyperparameter tuning... Skipping this model.\n",
      "Traceback (most recent call last):\n",
      "  File \"/Library/Frameworks/Python.framework/Versions/3.7/lib/python3.7/site-packages/autogluon/core/utils/try_import.py\", line 72, in try_import_lightgbm\n",
      "    import lightgbm\n",
      "  File \"/Library/Frameworks/Python.framework/Versions/3.7/lib/python3.7/site-packages/lightgbm/__init__.py\", line 8, in <module>\n",
      "    from .basic import Booster, Dataset, Sequence, register_logger\n",
      "  File \"/Library/Frameworks/Python.framework/Versions/3.7/lib/python3.7/site-packages/lightgbm/basic.py\", line 110, in <module>\n",
      "    _LIB = _load_lib()\n",
      "  File \"/Library/Frameworks/Python.framework/Versions/3.7/lib/python3.7/site-packages/lightgbm/basic.py\", line 101, in _load_lib\n",
      "    lib = ctypes.cdll.LoadLibrary(lib_path[0])\n",
      "  File \"/Library/Frameworks/Python.framework/Versions/3.7/lib/python3.7/ctypes/__init__.py\", line 434, in LoadLibrary\n",
      "    return self._dlltype(name)\n",
      "  File \"/Library/Frameworks/Python.framework/Versions/3.7/lib/python3.7/ctypes/__init__.py\", line 356, in __init__\n",
      "    self._handle = _dlopen(self._name, mode)\n",
      "OSError: dlopen(/Library/Frameworks/Python.framework/Versions/3.7/lib/python3.7/site-packages/lightgbm/lib_lightgbm.so, 6): Library not loaded: /usr/local/opt/libomp/lib/libomp.dylib\n",
      "  Referenced from: /Library/Frameworks/Python.framework/Versions/3.7/lib/python3.7/site-packages/lightgbm/lib_lightgbm.so\n",
      "  Reason: image not found\n",
      "\n",
      "During handling of the above exception, another exception occurred:\n",
      "\n",
      "Traceback (most recent call last):\n",
      "  File \"/Library/Frameworks/Python.framework/Versions/3.7/lib/python3.7/site-packages/autogluon/tabular/trainer/abstract_trainer.py\", line 1153, in _train_single_full\n",
      "    hpo_models, hpo_model_performances, hpo_results = model.hyperparameter_tune(X=X, y=y, k_fold=k_fold, scheduler_options=hyperparameter_tune_kwargs, **model_fit_kwargs)\n",
      "  File \"/Library/Frameworks/Python.framework/Versions/3.7/lib/python3.7/site-packages/autogluon/core/models/abstract/abstract_model.py\", line 830, in hyperparameter_tune\n",
      "    return self._hyperparameter_tune(scheduler_options=scheduler_options, **kwargs)\n",
      "  File \"/Library/Frameworks/Python.framework/Versions/3.7/lib/python3.7/site-packages/autogluon/core/models/ensemble/stacker_ensemble_model.py\", line 179, in _hyperparameter_tune\n",
      "    return super()._hyperparameter_tune(X=X, y=y, k_fold=k_fold, scheduler_options=scheduler_options, preprocess_kwargs=preprocess_kwargs, **kwargs)\n",
      "  File \"/Library/Frameworks/Python.framework/Versions/3.7/lib/python3.7/site-packages/autogluon/core/models/ensemble/bagged_ensemble_model.py\", line 801, in _hyperparameter_tune\n",
      "    hpo_models, hpo_model_performances, hpo_results = self.model_base.hyperparameter_tune(X=X_fold, y=y_fold, X_val=X_val_fold, y_val=y_val_fold, scheduler_options=scheduler_options, **kwargs)\n",
      "  File \"/Library/Frameworks/Python.framework/Versions/3.7/lib/python3.7/site-packages/autogluon/core/models/abstract/abstract_model.py\", line 830, in hyperparameter_tune\n",
      "    return self._hyperparameter_tune(scheduler_options=scheduler_options, **kwargs)\n",
      "  File \"/Library/Frameworks/Python.framework/Versions/3.7/lib/python3.7/site-packages/autogluon/tabular/models/lgb/lgb_model.py\", line 348, in _hyperparameter_tune\n",
      "    dataset_train, dataset_val = self.generate_datasets(X=X, y=y, params=params_copy, X_val=X_val, y_val=y_val)\n",
      "  File \"/Library/Frameworks/Python.framework/Versions/3.7/lib/python3.7/site-packages/autogluon/tabular/models/lgb/lgb_model.py\", line 289, in generate_datasets\n",
      "    dataset_train = construct_dataset(x=X, y=y, location=f'{self.path}datasets{os.path.sep}train', params=data_params, save=save, weight=sample_weight)\n",
      "  File \"/Library/Frameworks/Python.framework/Versions/3.7/lib/python3.7/site-packages/autogluon/tabular/models/lgb/lgb_utils.py\", line 81, in construct_dataset\n",
      "    try_import_lightgbm()\n",
      "  File \"/Library/Frameworks/Python.framework/Versions/3.7/lib/python3.7/site-packages/autogluon/core/utils/try_import.py\", line 78, in try_import_lightgbm\n",
      "    \"Please try 'brew install libomp'. Detailed info: {}\".format(str(e)))\n",
      "ImportError: `import lightgbm` failed. If you are using Mac OSX, Please try 'brew install libomp'. Detailed info: dlopen(/Library/Frameworks/Python.framework/Versions/3.7/lib/python3.7/site-packages/lightgbm/lib_lightgbm.so, 6): Library not loaded: /usr/local/opt/libomp/lib/libomp.dylib\n",
      "  Referenced from: /Library/Frameworks/Python.framework/Versions/3.7/lib/python3.7/site-packages/lightgbm/lib_lightgbm.so\n",
      "  Reason: image not found\n",
      "`import lightgbm` failed. If you are using Mac OSX, Please try 'brew install libomp'. Detailed info: dlopen(/Library/Frameworks/Python.framework/Versions/3.7/lib/python3.7/site-packages/lightgbm/lib_lightgbm.so, 6): Library not loaded: /usr/local/opt/libomp/lib/libomp.dylib\n",
      "  Referenced from: /Library/Frameworks/Python.framework/Versions/3.7/lib/python3.7/site-packages/lightgbm/lib_lightgbm.so\n",
      "  Reason: image not found\n",
      "Hyperparameter tuning model: NeuralNetMXNet_BAG_L2 ...\n",
      "  0%|          | 0/5 [00:00<?, ?it/s]\tRan out of time, stopping training early. (Stopping on epoch 0)\n",
      "\tTime limit exceeded\n",
      "  0%|          | 0/5 [00:06<?, ?it/s]\n",
      "Fitted model: NeuralNetMXNet_BAG_L2/T0 ...\n",
      "\t-135.8151\t = Validation score   (root_mean_squared_error)\n",
      "\t5.37s\t = Training   runtime\n",
      "\t0.11s\t = Validation runtime\n",
      "Fitting model: NeuralNetMXNet_BAG_L2/T0 ... Training model for up to 215.57s of the 215.56s of remaining time.\n",
      "\tRan out of time, stopping training early. (Stopping on epoch 5)\n",
      "\tRan out of time, stopping training early. (Stopping on epoch 6)\n",
      "\tRan out of time, stopping training early. (Stopping on epoch 6)\n",
      "\tRan out of time, stopping training early. (Stopping on epoch 7)\n",
      "\tRan out of time, stopping training early. (Stopping on epoch 0)\n",
      "\tRan out of time, stopping training early. (Stopping on epoch 4)\n",
      "\tRan out of time, stopping training early. (Stopping on epoch 6)\n",
      "\tRan out of time, stopping training early. (Stopping on epoch 6)\n",
      "\tRan out of time, stopping training early. (Stopping on epoch 9)\n",
      "\t-143.8136\t = Validation score   (root_mean_squared_error)\n",
      "\t207.5s\t = Training   runtime\n",
      "\t3.75s\t = Validation runtime\n",
      "Completed 1/20 k-fold bagging repeats ...\n",
      "Fitting model: WeightedEnsemble_L3 ... Training model for up to 360.0s of the 9.58s of remaining time.\n",
      "\t-143.8136\t = Validation score   (root_mean_squared_error)\n",
      "\t0.0s\t = Training   runtime\n",
      "\t0.0s\t = Validation runtime\n",
      "AutoGluon training complete, total runtime = 590.52s ...\n",
      "TabularPredictor saved. To load, use: predictor = TabularPredictor.load(\"AutogluonModels/ag-20211130_003359/\")\n"
     ]
    }
   ],
   "source": [
    "\n",
    "predictor = TabularPredictor(\n",
    "        label=\"count\", \n",
    "        problem_type=\"regression\", \n",
    "        eval_metric=\"root_mean_squared_error\", \n",
    "        learner_kwargs={\"ignored_columns\": [\"casual\", \"registered\"]}\n",
    "    ).fit(\n",
    "        train_data=train, time_limit=600, presets=\"best_quality\"\n",
    ")\n"
   ]
  },
  {
   "cell_type": "markdown",
   "metadata": {},
   "source": [
    "### Review AutoGluon's training run with ranking of models that did the best."
   ]
  },
  {
   "cell_type": "code",
   "execution_count": 65,
   "metadata": {},
   "outputs": [
    {
     "name": "stdout",
     "output_type": "stream",
     "text": [
      "*** Summary of fit() ***\n",
      "Estimated performance of each model:\n",
      "                      model   score_val  pred_time_val    fit_time  pred_time_val_marginal  fit_time_marginal  stack_level  can_infer  fit_order\n",
      "0  NeuralNetMXNet_BAG_L1/T0 -142.417590       2.990555  369.306998                2.990555         369.306998            1       True          1\n",
      "1       WeightedEnsemble_L2 -142.417590       2.991539  369.311059                0.000985           0.004062            2       True          2\n",
      "2  NeuralNetMXNet_BAG_L2/T0 -143.813625       6.743618  576.808946                3.753064         207.501949            2       True          3\n",
      "3       WeightedEnsemble_L3 -143.813625       6.744998  576.812047                0.001380           0.003101            3       True          4\n",
      "Number of models trained: 4\n",
      "Types of models trained:\n",
      "{'StackerEnsembleModel_TabularNeuralNet', 'WeightedEnsembleModel'}\n",
      "Bagging used: True  (with 10 folds)\n",
      "Multi-layer stack-ensembling used: True  (with 3 levels)\n",
      "Feature Metadata (Processed):\n",
      "(raw dtype, special dtypes):\n",
      "('category', [])             : 2 | ['season', 'weather']\n",
      "('float', [])                : 3 | ['temp', 'atemp', 'windspeed']\n",
      "('int', [])                  : 3 | ['humidity', 'month', 'day']\n",
      "('int', ['bool'])            : 3 | ['holiday', 'workingday', 'year']\n",
      "('int', ['datetime_as_int']) : 1 | ['datetime']\n",
      "*** End of fit() summary ***\n"
     ]
    },
    {
     "name": "stderr",
     "output_type": "stream",
     "text": [
      "/Library/Frameworks/Python.framework/Versions/3.7/lib/python3.7/site-packages/autogluon/core/utils/plots.py:138: UserWarning: AutoGluon summary plots cannot be created because bokeh is not installed. To see plots, please do: \"pip install bokeh==2.0.1\"\n",
      "  warnings.warn('AutoGluon summary plots cannot be created because bokeh is not installed. To see plots, please do: \"pip install bokeh==2.0.1\"')\n"
     ]
    },
    {
     "data": {
      "text/plain": [
       "{'model_types': {'NeuralNetMXNet_BAG_L1/T0': 'StackerEnsembleModel_TabularNeuralNet',\n",
       "  'WeightedEnsemble_L2': 'WeightedEnsembleModel',\n",
       "  'NeuralNetMXNet_BAG_L2/T0': 'StackerEnsembleModel_TabularNeuralNet',\n",
       "  'WeightedEnsemble_L3': 'WeightedEnsembleModel'},\n",
       " 'model_performance': {'NeuralNetMXNet_BAG_L1/T0': -142.41758984233968,\n",
       "  'WeightedEnsemble_L2': -142.41758984233968,\n",
       "  'NeuralNetMXNet_BAG_L2/T0': -143.81362541441078,\n",
       "  'WeightedEnsemble_L3': -143.81362541441078},\n",
       " 'model_best': 'WeightedEnsemble_L2',\n",
       " 'model_paths': {'NeuralNetMXNet_BAG_L1/T0': 'AutogluonModels/ag-20211130_003359/models/NeuralNetMXNet_BAG_L1/T0/',\n",
       "  'WeightedEnsemble_L2': 'AutogluonModels/ag-20211130_003359/models/WeightedEnsemble_L2/',\n",
       "  'NeuralNetMXNet_BAG_L2/T0': 'AutogluonModels/ag-20211130_003359/models/NeuralNetMXNet_BAG_L2/T0/',\n",
       "  'WeightedEnsemble_L3': 'AutogluonModels/ag-20211130_003359/models/WeightedEnsemble_L3/'},\n",
       " 'model_fit_times': {'NeuralNetMXNet_BAG_L1/T0': 369.3069975376129,\n",
       "  'WeightedEnsemble_L2': 0.00406193733215332,\n",
       "  'NeuralNetMXNet_BAG_L2/T0': 207.50194883346558,\n",
       "  'WeightedEnsemble_L3': 0.003100872039794922},\n",
       " 'model_pred_times': {'NeuralNetMXNet_BAG_L1/T0': 2.9905545711517334,\n",
       "  'WeightedEnsemble_L2': 0.0009849071502685547,\n",
       "  'NeuralNetMXNet_BAG_L2/T0': 3.753063678741455,\n",
       "  'WeightedEnsemble_L3': 0.0013802051544189453},\n",
       " 'num_bag_folds': 10,\n",
       " 'max_stack_level': 3,\n",
       " 'model_hyperparams': {'NeuralNetMXNet_BAG_L1/T0': {'use_orig_features': True,\n",
       "   'max_base_models': 25,\n",
       "   'max_base_models_per_type': 5,\n",
       "   'save_bag_folds': True},\n",
       "  'WeightedEnsemble_L2': {'use_orig_features': False,\n",
       "   'max_base_models': 25,\n",
       "   'max_base_models_per_type': 5,\n",
       "   'save_bag_folds': True},\n",
       "  'NeuralNetMXNet_BAG_L2/T0': {'use_orig_features': True,\n",
       "   'max_base_models': 25,\n",
       "   'max_base_models_per_type': 5,\n",
       "   'save_bag_folds': True},\n",
       "  'WeightedEnsemble_L3': {'use_orig_features': False,\n",
       "   'max_base_models': 25,\n",
       "   'max_base_models_per_type': 5,\n",
       "   'save_bag_folds': True}},\n",
       " 'leaderboard':                       model   score_val  pred_time_val    fit_time  \\\n",
       " 0  NeuralNetMXNet_BAG_L1/T0 -142.417590       2.990555  369.306998   \n",
       " 1       WeightedEnsemble_L2 -142.417590       2.991539  369.311059   \n",
       " 2  NeuralNetMXNet_BAG_L2/T0 -143.813625       6.743618  576.808946   \n",
       " 3       WeightedEnsemble_L3 -143.813625       6.744998  576.812047   \n",
       " \n",
       "    pred_time_val_marginal  fit_time_marginal  stack_level  can_infer  \\\n",
       " 0                2.990555         369.306998            1       True   \n",
       " 1                0.000985           0.004062            2       True   \n",
       " 2                3.753064         207.501949            2       True   \n",
       " 3                0.001380           0.003101            3       True   \n",
       " \n",
       "    fit_order  \n",
       " 0          1  \n",
       " 1          2  \n",
       " 2          3  \n",
       " 3          4  }"
      ]
     },
     "execution_count": 65,
     "metadata": {},
     "output_type": "execute_result"
    }
   ],
   "source": [
    "predictor.fit_summary()"
   ]
  },
  {
   "cell_type": "markdown",
   "metadata": {},
   "source": [
    "### Create predictions from test dataset"
   ]
  },
  {
   "cell_type": "code",
   "execution_count": 66,
   "metadata": {},
   "outputs": [
    {
     "data": {
      "text/plain": [
       "0    44.523518\n",
       "1    32.997295\n",
       "2    32.998894\n",
       "3    41.135414\n",
       "4    41.137989\n",
       "Name: count, dtype: float32"
      ]
     },
     "execution_count": 66,
     "metadata": {},
     "output_type": "execute_result"
    }
   ],
   "source": [
    "predictions = predictor.predict(test)\n",
    "predictions.head()"
   ]
  },
  {
   "cell_type": "markdown",
   "metadata": {},
   "source": [
    "#### NOTE: Kaggle will reject the submission if we don't set everything to be > 0."
   ]
  },
  {
   "cell_type": "code",
   "execution_count": 67,
   "metadata": {},
   "outputs": [],
   "source": [
    "# Describe the `predictions` series to see if there are any negative values\n",
    "neg_val = 0\n",
    "for num, val in predictions.items():\n",
    "    if val < 0:\n",
    "        neg_val = neg_val + 1\n",
    "        print(val)"
   ]
  },
  {
   "cell_type": "code",
   "execution_count": 68,
   "metadata": {},
   "outputs": [
    {
     "name": "stdout",
     "output_type": "stream",
     "text": [
      "0\n"
     ]
    }
   ],
   "source": [
    "# How many negative values do we have?\n",
    "print(neg_val)"
   ]
  },
  {
   "cell_type": "code",
   "execution_count": 69,
   "metadata": {},
   "outputs": [],
   "source": [
    "# Set them to zero\n",
    "for num, val in predictions.items():\n",
    "    if val < 0:\n",
    "        predictions[num] = 0"
   ]
  },
  {
   "cell_type": "markdown",
   "metadata": {},
   "source": [
    "### Set predictions to submission dataframe, save, and submit"
   ]
  },
  {
   "cell_type": "code",
   "execution_count": 70,
   "metadata": {},
   "outputs": [],
   "source": [
    "submission[\"count\"] = predictions\n",
    "submission.to_csv(\"submission.csv\", index=False)"
   ]
  },
  {
   "cell_type": "code",
   "execution_count": 71,
   "metadata": {},
   "outputs": [
    {
     "name": "stdout",
     "output_type": "stream",
     "text": [
      "100%|█████████████████████████████████████████| 188k/188k [00:00<00:00, 289kB/s]\n",
      "Successfully submitted to Bike Sharing Demand"
     ]
    }
   ],
   "source": [
    "!kaggle competitions submit -c bike-sharing-demand -f submission.csv -m \"first raw submission\""
   ]
  },
  {
   "cell_type": "markdown",
   "metadata": {},
   "source": [
    "#### View submission via the command line or in the web browser under the competition's page - `My Submissions`"
   ]
  },
  {
   "cell_type": "code",
   "execution_count": 72,
   "metadata": {},
   "outputs": [
    {
     "name": "stdout",
     "output_type": "stream",
     "text": [
      "fileName                     date                 description                        status    publicScore  privateScore  \n",
      "---------------------------  -------------------  ---------------------------------  --------  -----------  ------------  \n",
      "submission.csv               2021-11-30 00:44:28  first raw submission               complete  1.23194      1.23194       \n",
      "submission_new_features.csv  2021-11-30 00:32:23  new features                       complete  1.21904      1.21904       \n",
      "submission_new_hpo.csv       2021-11-30 00:18:50  new features with hyperparameters  complete  1.22871      1.22871       \n",
      "submission_new_hpo.csv       2021-11-29 23:28:04  new features with hyperparameters  complete  1.22353      1.22353       \n"
     ]
    }
   ],
   "source": [
    "!kaggle competitions submissions -c bike-sharing-demand | tail -n +1 | head -n 6"
   ]
  },
  {
   "cell_type": "markdown",
   "metadata": {},
   "source": [
    "#### Initial score of 1.39782"
   ]
  },
  {
   "cell_type": "markdown",
   "metadata": {},
   "source": [
    "## Step 4: Exploratory Data Analysis and Creating an additional feature\n",
    "* Any additional feature will do, but a great suggestion would be to separate out the datetime into hour, day, or month parts."
   ]
  },
  {
   "cell_type": "code",
   "execution_count": 15,
   "metadata": {},
   "outputs": [
    {
     "data": {
      "text/plain": [
       "array([[<AxesSubplot:title={'center':'season'}>,\n",
       "        <AxesSubplot:title={'center':'holiday'}>,\n",
       "        <AxesSubplot:title={'center':'workingday'}>],\n",
       "       [<AxesSubplot:title={'center':'weather'}>,\n",
       "        <AxesSubplot:title={'center':'temp'}>,\n",
       "        <AxesSubplot:title={'center':'atemp'}>],\n",
       "       [<AxesSubplot:title={'center':'humidity'}>,\n",
       "        <AxesSubplot:title={'center':'windspeed'}>,\n",
       "        <AxesSubplot:title={'center':'casual'}>],\n",
       "       [<AxesSubplot:title={'center':'registered'}>,\n",
       "        <AxesSubplot:title={'center':'count'}>, <AxesSubplot:>]],\n",
       "      dtype=object)"
      ]
     },
     "execution_count": 15,
     "metadata": {},
     "output_type": "execute_result"
    },
    {
     "data": {
      "image/png": "[encoded data removed]",
      "text/plain": [
       "<Figure size 432x288 with 12 Axes>"
      ]
     },
     "metadata": {
      "needs_background": "light"
     },
     "output_type": "display_data"
    }
   ],
   "source": [
    "# Create a histogram of all features to show the distribution of each one relative to the data. This is part of the exploritory data analysis\n",
    "train.hist()"
   ]
  },
  {
   "cell_type": "code",
   "execution_count": 16,
   "metadata": {},
   "outputs": [],
   "source": [
    "# create a new feature\n",
    "train[\"year\"] = train.datetime.dt.year\n",
    "train[\"month\"] = train.datetime.dt.month\n",
    "train[\"day\"] = train.datetime.dt.day\n",
    "train[\"hour\"] = train.datetime.dt.hour\n",
    "test[\"hour\"] = test.datetime.dt.hour\n",
    "test[\"year\"] = test.datetime.dt.year\n",
    "test[\"month\"] = test.datetime.dt.month\n",
    "test[\"day\"] = test.datetime.dt.day"
   ]
  },
  {
   "cell_type": "markdown",
   "metadata": {},
   "source": [
    "## Make category types for these so models know they are not just numbers\n",
    "* AutoGluon originally sees these as ints, but in reality they are int representations of a category.\n",
    "* Setting the dtype to category will classify these as categories in AutoGluon."
   ]
  },
  {
   "cell_type": "code",
   "execution_count": 17,
   "metadata": {},
   "outputs": [],
   "source": [
    "train.loc[:, \"weather\"] = train[\"weather\"].astype(\"category\")\n",
    "train.loc[:, \"season\"] = train[\"season\"].astype(\"category\")\n",
    "test.loc[:, \"weather\"] = test[\"weather\"].astype(\"category\")\n",
    "test.loc[:, \"season\"] = test[\"season\"].astype(\"category\")"
   ]
  },
  {
   "cell_type": "code",
   "execution_count": 18,
   "metadata": {},
   "outputs": [
    {
     "data": {
      "text/html": [
       "<div>\n",
       "<style scoped>\n",
       "    .dataframe tbody tr th:only-of-type {\n",
       "        vertical-align: middle;\n",
       "    }\n",
       "\n",
       "    .dataframe tbody tr th {\n",
       "        vertical-align: top;\n",
       "    }\n",
       "\n",
       "    .dataframe thead th {\n",
       "        text-align: right;\n",
       "    }\n",
       "</style>\n",
       "<table border=\"1\" class=\"dataframe\">\n",
       "  <thead>\n",
       "    <tr style=\"text-align: right;\">\n",
       "      <th></th>\n",
       "      <th>datetime</th>\n",
       "      <th>season</th>\n",
       "      <th>holiday</th>\n",
       "      <th>workingday</th>\n",
       "      <th>weather</th>\n",
       "      <th>temp</th>\n",
       "      <th>atemp</th>\n",
       "      <th>humidity</th>\n",
       "      <th>windspeed</th>\n",
       "      <th>casual</th>\n",
       "      <th>registered</th>\n",
       "      <th>count</th>\n",
       "      <th>year</th>\n",
       "      <th>month</th>\n",
       "      <th>day</th>\n",
       "    </tr>\n",
       "  </thead>\n",
       "  <tbody>\n",
       "    <tr>\n",
       "      <th>0</th>\n",
       "      <td>2011-01-01 00:00:00</td>\n",
       "      <td>1</td>\n",
       "      <td>0</td>\n",
       "      <td>0</td>\n",
       "      <td>1</td>\n",
       "      <td>9.84</td>\n",
       "      <td>14.395</td>\n",
       "      <td>81</td>\n",
       "      <td>0.0</td>\n",
       "      <td>3</td>\n",
       "      <td>13</td>\n",
       "      <td>16</td>\n",
       "      <td>2011</td>\n",
       "      <td>1</td>\n",
       "      <td>1</td>\n",
       "    </tr>\n",
       "    <tr>\n",
       "      <th>1</th>\n",
       "      <td>2011-01-01 01:00:00</td>\n",
       "      <td>1</td>\n",
       "      <td>0</td>\n",
       "      <td>0</td>\n",
       "      <td>1</td>\n",
       "      <td>9.02</td>\n",
       "      <td>13.635</td>\n",
       "      <td>80</td>\n",
       "      <td>0.0</td>\n",
       "      <td>8</td>\n",
       "      <td>32</td>\n",
       "      <td>40</td>\n",
       "      <td>2011</td>\n",
       "      <td>1</td>\n",
       "      <td>1</td>\n",
       "    </tr>\n",
       "    <tr>\n",
       "      <th>2</th>\n",
       "      <td>2011-01-01 02:00:00</td>\n",
       "      <td>1</td>\n",
       "      <td>0</td>\n",
       "      <td>0</td>\n",
       "      <td>1</td>\n",
       "      <td>9.02</td>\n",
       "      <td>13.635</td>\n",
       "      <td>80</td>\n",
       "      <td>0.0</td>\n",
       "      <td>5</td>\n",
       "      <td>27</td>\n",
       "      <td>32</td>\n",
       "      <td>2011</td>\n",
       "      <td>1</td>\n",
       "      <td>1</td>\n",
       "    </tr>\n",
       "    <tr>\n",
       "      <th>3</th>\n",
       "      <td>2011-01-01 03:00:00</td>\n",
       "      <td>1</td>\n",
       "      <td>0</td>\n",
       "      <td>0</td>\n",
       "      <td>1</td>\n",
       "      <td>9.84</td>\n",
       "      <td>14.395</td>\n",
       "      <td>75</td>\n",
       "      <td>0.0</td>\n",
       "      <td>3</td>\n",
       "      <td>10</td>\n",
       "      <td>13</td>\n",
       "      <td>2011</td>\n",
       "      <td>1</td>\n",
       "      <td>1</td>\n",
       "    </tr>\n",
       "    <tr>\n",
       "      <th>4</th>\n",
       "      <td>2011-01-01 04:00:00</td>\n",
       "      <td>1</td>\n",
       "      <td>0</td>\n",
       "      <td>0</td>\n",
       "      <td>1</td>\n",
       "      <td>9.84</td>\n",
       "      <td>14.395</td>\n",
       "      <td>75</td>\n",
       "      <td>0.0</td>\n",
       "      <td>0</td>\n",
       "      <td>1</td>\n",
       "      <td>1</td>\n",
       "      <td>2011</td>\n",
       "      <td>1</td>\n",
       "      <td>1</td>\n",
       "    </tr>\n",
       "  </tbody>\n",
       "</table>\n",
       "</div>"
      ],
      "text/plain": [
       "             datetime season  holiday  workingday weather  temp   atemp  \\\n",
       "0 2011-01-01 00:00:00      1        0           0       1  9.84  14.395   \n",
       "1 2011-01-01 01:00:00      1        0           0       1  9.02  13.635   \n",
       "2 2011-01-01 02:00:00      1        0           0       1  9.02  13.635   \n",
       "3 2011-01-01 03:00:00      1        0           0       1  9.84  14.395   \n",
       "4 2011-01-01 04:00:00      1        0           0       1  9.84  14.395   \n",
       "\n",
       "   humidity  windspeed  casual  registered  count  year  month  day  \n",
       "0        81        0.0       3          13     16  2011      1    1  \n",
       "1        80        0.0       8          32     40  2011      1    1  \n",
       "2        80        0.0       5          27     32  2011      1    1  \n",
       "3        75        0.0       3          10     13  2011      1    1  \n",
       "4        75        0.0       0           1      1  2011      1    1  "
      ]
     },
     "execution_count": 18,
     "metadata": {},
     "output_type": "execute_result"
    }
   ],
   "source": [
    "# View are new feature\n",
    "train.head()"
   ]
  },
  {
   "cell_type": "code",
   "execution_count": 19,
   "metadata": {},
   "outputs": [
    {
     "data": {
      "text/plain": [
       "array([[<AxesSubplot:title={'center':'holiday'}>,\n",
       "        <AxesSubplot:title={'center':'workingday'}>,\n",
       "        <AxesSubplot:title={'center':'temp'}>],\n",
       "       [<AxesSubplot:title={'center':'atemp'}>,\n",
       "        <AxesSubplot:title={'center':'humidity'}>,\n",
       "        <AxesSubplot:title={'center':'windspeed'}>],\n",
       "       [<AxesSubplot:title={'center':'casual'}>,\n",
       "        <AxesSubplot:title={'center':'registered'}>,\n",
       "        <AxesSubplot:title={'center':'count'}>],\n",
       "       [<AxesSubplot:title={'center':'year'}>,\n",
       "        <AxesSubplot:title={'center':'month'}>,\n",
       "        <AxesSubplot:title={'center':'day'}>]], dtype=object)"
      ]
     },
     "execution_count": 19,
     "metadata": {},
     "output_type": "execute_result"
    },
    {
     "data": {
      "image/png": "[encoded data removed]",
      "text/plain": [
       "<Figure size 432x288 with 12 Axes>"
      ]
     },
     "metadata": {
      "needs_background": "light"
     },
     "output_type": "display_data"
    }
   ],
   "source": [
    "# View histogram of all features again now with the hour feature\n",
    "train.hist()"
   ]
  },
  {
   "cell_type": "markdown",
   "metadata": {},
   "source": [
    "## Step 5: Rerun the model with the same settings as before, just with more features"
   ]
  },
  {
   "cell_type": "code",
   "execution_count": 58,
   "metadata": {},
   "outputs": [
    {
     "name": "stderr",
     "output_type": "stream",
     "text": [
      "No path specified. Models will be saved in: \"AutogluonModels/ag-20211130_002147/\"\n",
      "Presets specified: ['best_quality']\n",
      "Warning: hyperparameter tuning is currently experimental and may cause the process to hang.\n",
      "Beginning AutoGluon training ... Time limit = 600s\n",
      "AutoGluon will save models to \"AutogluonModels/ag-20211130_002147/\"\n",
      "AutoGluon Version:  0.3.1\n",
      "Train Data Rows:    10886\n",
      "Train Data Columns: 14\n",
      "Preprocessing data ...\n",
      "Using Feature Generators to preprocess the data ...\n",
      "Dropping user-specified ignored columns: ['casual', 'registered']\n",
      "Fitting AutoMLPipelineFeatureGenerator...\n",
      "\tAvailable Memory:                    3468.35 MB\n",
      "\tTrain Data (Original)  Memory Usage: 0.89 MB (0.0% of available memory)\n",
      "\tInferring data type of each feature based on column values. Set feature_metadata_in to manually specify special dtypes of the features.\n",
      "\tStage 1 Generators:\n",
      "\t\tFitting AsTypeFeatureGenerator...\n",
      "\t\t\tNote: Converting 3 features to boolean dtype as they only contain 2 unique values.\n",
      "\tStage 2 Generators:\n",
      "\t\tFitting FillNaFeatureGenerator...\n",
      "\tStage 3 Generators:\n",
      "\t\tFitting IdentityFeatureGenerator...\n",
      "\t\tFitting CategoryFeatureGenerator...\n",
      "\t\t\tFitting CategoryMemoryMinimizeFeatureGenerator...\n",
      "\t\tFitting DatetimeFeatureGenerator...\n",
      "\tStage 4 Generators:\n",
      "\t\tFitting DropUniqueFeatureGenerator...\n",
      "\tTypes of features in original data (raw dtype, special dtypes):\n",
      "\t\t('category', []) : 2 | ['season', 'weather']\n",
      "\t\t('datetime', []) : 1 | ['datetime']\n",
      "\t\t('float', [])    : 3 | ['temp', 'atemp', 'windspeed']\n",
      "\t\t('int', [])      : 6 | ['holiday', 'workingday', 'humidity', 'year', 'month', ...]\n",
      "\tTypes of features in processed data (raw dtype, special dtypes):\n",
      "\t\t('category', [])             : 2 | ['season', 'weather']\n",
      "\t\t('float', [])                : 3 | ['temp', 'atemp', 'windspeed']\n",
      "\t\t('int', [])                  : 3 | ['humidity', 'month', 'day']\n",
      "\t\t('int', ['bool'])            : 3 | ['holiday', 'workingday', 'year']\n",
      "\t\t('int', ['datetime_as_int']) : 1 | ['datetime']\n",
      "\t0.3s = Fit runtime\n",
      "\t12 features in original data used to generate 12 features in processed data.\n",
      "\tTrain Data (Processed) Memory Usage: 0.67 MB (0.0% of available memory)\n",
      "Data preprocessing and feature engineering runtime = 0.4s ...\n",
      "AutoGluon will gauge predictive performance using evaluation metric: 'root_mean_squared_error'\n",
      "\tTo change this, specify the eval_metric argument of fit()\n",
      "AutoGluon will fit 2 stack levels (L1 to L2) ...\n",
      "Fitting 2 L1 models ...\n",
      "Hyperparameter tuning model: LightGBM_BAG_L1 ...\n",
      "Warning: Exception caused LightGBM_BAG_L1 to fail during hyperparameter tuning... Skipping this model.\n",
      "Traceback (most recent call last):\n",
      "  File \"/Library/Frameworks/Python.framework/Versions/3.7/lib/python3.7/site-packages/autogluon/core/utils/try_import.py\", line 72, in try_import_lightgbm\n",
      "    import lightgbm\n",
      "  File \"/Library/Frameworks/Python.framework/Versions/3.7/lib/python3.7/site-packages/lightgbm/__init__.py\", line 8, in <module>\n",
      "    from .basic import Booster, Dataset, Sequence, register_logger\n",
      "  File \"/Library/Frameworks/Python.framework/Versions/3.7/lib/python3.7/site-packages/lightgbm/basic.py\", line 110, in <module>\n",
      "    _LIB = _load_lib()\n",
      "  File \"/Library/Frameworks/Python.framework/Versions/3.7/lib/python3.7/site-packages/lightgbm/basic.py\", line 101, in _load_lib\n",
      "    lib = ctypes.cdll.LoadLibrary(lib_path[0])\n",
      "  File \"/Library/Frameworks/Python.framework/Versions/3.7/lib/python3.7/ctypes/__init__.py\", line 434, in LoadLibrary\n",
      "    return self._dlltype(name)\n",
      "  File \"/Library/Frameworks/Python.framework/Versions/3.7/lib/python3.7/ctypes/__init__.py\", line 356, in __init__\n",
      "    self._handle = _dlopen(self._name, mode)\n",
      "OSError: dlopen(/Library/Frameworks/Python.framework/Versions/3.7/lib/python3.7/site-packages/lightgbm/lib_lightgbm.so, 6): Library not loaded: /usr/local/opt/libomp/lib/libomp.dylib\n",
      "  Referenced from: /Library/Frameworks/Python.framework/Versions/3.7/lib/python3.7/site-packages/lightgbm/lib_lightgbm.so\n",
      "  Reason: image not found\n",
      "\n",
      "During handling of the above exception, another exception occurred:\n",
      "\n",
      "Traceback (most recent call last):\n",
      "  File \"/Library/Frameworks/Python.framework/Versions/3.7/lib/python3.7/site-packages/autogluon/tabular/trainer/abstract_trainer.py\", line 1153, in _train_single_full\n",
      "    hpo_models, hpo_model_performances, hpo_results = model.hyperparameter_tune(X=X, y=y, k_fold=k_fold, scheduler_options=hyperparameter_tune_kwargs, **model_fit_kwargs)\n",
      "  File \"/Library/Frameworks/Python.framework/Versions/3.7/lib/python3.7/site-packages/autogluon/core/models/abstract/abstract_model.py\", line 830, in hyperparameter_tune\n",
      "    return self._hyperparameter_tune(scheduler_options=scheduler_options, **kwargs)\n",
      "  File \"/Library/Frameworks/Python.framework/Versions/3.7/lib/python3.7/site-packages/autogluon/core/models/ensemble/stacker_ensemble_model.py\", line 179, in _hyperparameter_tune\n",
      "    return super()._hyperparameter_tune(X=X, y=y, k_fold=k_fold, scheduler_options=scheduler_options, preprocess_kwargs=preprocess_kwargs, **kwargs)\n",
      "  File \"/Library/Frameworks/Python.framework/Versions/3.7/lib/python3.7/site-packages/autogluon/core/models/ensemble/bagged_ensemble_model.py\", line 801, in _hyperparameter_tune\n",
      "    hpo_models, hpo_model_performances, hpo_results = self.model_base.hyperparameter_tune(X=X_fold, y=y_fold, X_val=X_val_fold, y_val=y_val_fold, scheduler_options=scheduler_options, **kwargs)\n",
      "  File \"/Library/Frameworks/Python.framework/Versions/3.7/lib/python3.7/site-packages/autogluon/core/models/abstract/abstract_model.py\", line 830, in hyperparameter_tune\n",
      "    return self._hyperparameter_tune(scheduler_options=scheduler_options, **kwargs)\n",
      "  File \"/Library/Frameworks/Python.framework/Versions/3.7/lib/python3.7/site-packages/autogluon/tabular/models/lgb/lgb_model.py\", line 348, in _hyperparameter_tune\n",
      "    dataset_train, dataset_val = self.generate_datasets(X=X, y=y, params=params_copy, X_val=X_val, y_val=y_val)\n",
      "  File \"/Library/Frameworks/Python.framework/Versions/3.7/lib/python3.7/site-packages/autogluon/tabular/models/lgb/lgb_model.py\", line 289, in generate_datasets\n",
      "    dataset_train = construct_dataset(x=X, y=y, location=f'{self.path}datasets{os.path.sep}train', params=data_params, save=save, weight=sample_weight)\n",
      "  File \"/Library/Frameworks/Python.framework/Versions/3.7/lib/python3.7/site-packages/autogluon/tabular/models/lgb/lgb_utils.py\", line 81, in construct_dataset\n",
      "    try_import_lightgbm()\n",
      "  File \"/Library/Frameworks/Python.framework/Versions/3.7/lib/python3.7/site-packages/autogluon/core/utils/try_import.py\", line 78, in try_import_lightgbm\n",
      "    \"Please try 'brew install libomp'. Detailed info: {}\".format(str(e)))\n",
      "ImportError: `import lightgbm` failed. If you are using Mac OSX, Please try 'brew install libomp'. Detailed info: dlopen(/Library/Frameworks/Python.framework/Versions/3.7/lib/python3.7/site-packages/lightgbm/lib_lightgbm.so, 6): Library not loaded: /usr/local/opt/libomp/lib/libomp.dylib\n",
      "  Referenced from: /Library/Frameworks/Python.framework/Versions/3.7/lib/python3.7/site-packages/lightgbm/lib_lightgbm.so\n",
      "  Reason: image not found\n",
      "`import lightgbm` failed. If you are using Mac OSX, Please try 'brew install libomp'. Detailed info: dlopen(/Library/Frameworks/Python.framework/Versions/3.7/lib/python3.7/site-packages/lightgbm/lib_lightgbm.so, 6): Library not loaded: /usr/local/opt/libomp/lib/libomp.dylib\n",
      "  Referenced from: /Library/Frameworks/Python.framework/Versions/3.7/lib/python3.7/site-packages/lightgbm/lib_lightgbm.so\n",
      "  Reason: image not found\n",
      "Hyperparameter tuning model: NeuralNetMXNet_BAG_L1 ...\n",
      "  0%|          | 0/5 [00:00<?, ?it/s]\tRan out of time, stopping training early. (Stopping on epoch 2)\n",
      "\tTime limit exceeded\n",
      "  0%|          | 0/5 [00:10<?, ?it/s]\n",
      "Fitted model: NeuralNetMXNet_BAG_L1/T0 ...\n",
      "\t-147.4739\t = Validation score   (root_mean_squared_error)\n",
      "\t9.54s\t = Training   runtime\n",
      "\t0.11s\t = Validation runtime\n",
      "Fitting model: NeuralNetMXNet_BAG_L1/T0 ... Training model for up to 386.24s of the 586.2s of remaining time.\n",
      "\tRan out of time, stopping training early. (Stopping on epoch 12)\n",
      "\tRan out of time, stopping training early. (Stopping on epoch 8)\n",
      "\tRan out of time, stopping training early. (Stopping on epoch 11)\n",
      "\tRan out of time, stopping training early. (Stopping on epoch 13)\n",
      "\tRan out of time, stopping training early. (Stopping on epoch 11)\n",
      "\tRan out of time, stopping training early. (Stopping on epoch 15)\n",
      "\tRan out of time, stopping training early. (Stopping on epoch 16)\n",
      "\tRan out of time, stopping training early. (Stopping on epoch 18)\n",
      "\t-142.6395\t = Validation score   (root_mean_squared_error)\n",
      "\t369.1s\t = Training   runtime\n",
      "\t3.05s\t = Validation runtime\n",
      "Completed 1/20 k-fold bagging repeats ...\n",
      "Fitting model: WeightedEnsemble_L2 ... Training model for up to 360.0s of the 223.49s of remaining time.\n",
      "\t-142.6395\t = Validation score   (root_mean_squared_error)\n",
      "\t0.0s\t = Training   runtime\n",
      "\t0.0s\t = Validation runtime\n",
      "Fitting 2 L2 models ...\n",
      "Hyperparameter tuning model: LightGBM_BAG_L2 ...\n",
      "Warning: Exception caused LightGBM_BAG_L2 to fail during hyperparameter tuning... Skipping this model.\n",
      "Traceback (most recent call last):\n",
      "  File \"/Library/Frameworks/Python.framework/Versions/3.7/lib/python3.7/site-packages/autogluon/core/utils/try_import.py\", line 72, in try_import_lightgbm\n",
      "    import lightgbm\n",
      "  File \"/Library/Frameworks/Python.framework/Versions/3.7/lib/python3.7/site-packages/lightgbm/__init__.py\", line 8, in <module>\n",
      "    from .basic import Booster, Dataset, Sequence, register_logger\n",
      "  File \"/Library/Frameworks/Python.framework/Versions/3.7/lib/python3.7/site-packages/lightgbm/basic.py\", line 110, in <module>\n",
      "    _LIB = _load_lib()\n",
      "  File \"/Library/Frameworks/Python.framework/Versions/3.7/lib/python3.7/site-packages/lightgbm/basic.py\", line 101, in _load_lib\n",
      "    lib = ctypes.cdll.LoadLibrary(lib_path[0])\n",
      "  File \"/Library/Frameworks/Python.framework/Versions/3.7/lib/python3.7/ctypes/__init__.py\", line 434, in LoadLibrary\n",
      "    return self._dlltype(name)\n",
      "  File \"/Library/Frameworks/Python.framework/Versions/3.7/lib/python3.7/ctypes/__init__.py\", line 356, in __init__\n",
      "    self._handle = _dlopen(self._name, mode)\n",
      "OSError: dlopen(/Library/Frameworks/Python.framework/Versions/3.7/lib/python3.7/site-packages/lightgbm/lib_lightgbm.so, 6): Library not loaded: /usr/local/opt/libomp/lib/libomp.dylib\n",
      "  Referenced from: /Library/Frameworks/Python.framework/Versions/3.7/lib/python3.7/site-packages/lightgbm/lib_lightgbm.so\n",
      "  Reason: image not found\n",
      "\n",
      "During handling of the above exception, another exception occurred:\n",
      "\n",
      "Traceback (most recent call last):\n",
      "  File \"/Library/Frameworks/Python.framework/Versions/3.7/lib/python3.7/site-packages/autogluon/tabular/trainer/abstract_trainer.py\", line 1153, in _train_single_full\n",
      "    hpo_models, hpo_model_performances, hpo_results = model.hyperparameter_tune(X=X, y=y, k_fold=k_fold, scheduler_options=hyperparameter_tune_kwargs, **model_fit_kwargs)\n",
      "  File \"/Library/Frameworks/Python.framework/Versions/3.7/lib/python3.7/site-packages/autogluon/core/models/abstract/abstract_model.py\", line 830, in hyperparameter_tune\n",
      "    return self._hyperparameter_tune(scheduler_options=scheduler_options, **kwargs)\n",
      "  File \"/Library/Frameworks/Python.framework/Versions/3.7/lib/python3.7/site-packages/autogluon/core/models/ensemble/stacker_ensemble_model.py\", line 179, in _hyperparameter_tune\n",
      "    return super()._hyperparameter_tune(X=X, y=y, k_fold=k_fold, scheduler_options=scheduler_options, preprocess_kwargs=preprocess_kwargs, **kwargs)\n",
      "  File \"/Library/Frameworks/Python.framework/Versions/3.7/lib/python3.7/site-packages/autogluon/core/models/ensemble/bagged_ensemble_model.py\", line 801, in _hyperparameter_tune\n",
      "    hpo_models, hpo_model_performances, hpo_results = self.model_base.hyperparameter_tune(X=X_fold, y=y_fold, X_val=X_val_fold, y_val=y_val_fold, scheduler_options=scheduler_options, **kwargs)\n",
      "  File \"/Library/Frameworks/Python.framework/Versions/3.7/lib/python3.7/site-packages/autogluon/core/models/abstract/abstract_model.py\", line 830, in hyperparameter_tune\n",
      "    return self._hyperparameter_tune(scheduler_options=scheduler_options, **kwargs)\n",
      "  File \"/Library/Frameworks/Python.framework/Versions/3.7/lib/python3.7/site-packages/autogluon/tabular/models/lgb/lgb_model.py\", line 348, in _hyperparameter_tune\n",
      "    dataset_train, dataset_val = self.generate_datasets(X=X, y=y, params=params_copy, X_val=X_val, y_val=y_val)\n",
      "  File \"/Library/Frameworks/Python.framework/Versions/3.7/lib/python3.7/site-packages/autogluon/tabular/models/lgb/lgb_model.py\", line 289, in generate_datasets\n",
      "    dataset_train = construct_dataset(x=X, y=y, location=f'{self.path}datasets{os.path.sep}train', params=data_params, save=save, weight=sample_weight)\n",
      "  File \"/Library/Frameworks/Python.framework/Versions/3.7/lib/python3.7/site-packages/autogluon/tabular/models/lgb/lgb_utils.py\", line 81, in construct_dataset\n",
      "    try_import_lightgbm()\n",
      "  File \"/Library/Frameworks/Python.framework/Versions/3.7/lib/python3.7/site-packages/autogluon/core/utils/try_import.py\", line 78, in try_import_lightgbm\n",
      "    \"Please try 'brew install libomp'. Detailed info: {}\".format(str(e)))\n",
      "ImportError: `import lightgbm` failed. If you are using Mac OSX, Please try 'brew install libomp'. Detailed info: dlopen(/Library/Frameworks/Python.framework/Versions/3.7/lib/python3.7/site-packages/lightgbm/lib_lightgbm.so, 6): Library not loaded: /usr/local/opt/libomp/lib/libomp.dylib\n",
      "  Referenced from: /Library/Frameworks/Python.framework/Versions/3.7/lib/python3.7/site-packages/lightgbm/lib_lightgbm.so\n",
      "  Reason: image not found\n",
      "`import lightgbm` failed. If you are using Mac OSX, Please try 'brew install libomp'. Detailed info: dlopen(/Library/Frameworks/Python.framework/Versions/3.7/lib/python3.7/site-packages/lightgbm/lib_lightgbm.so, 6): Library not loaded: /usr/local/opt/libomp/lib/libomp.dylib\n",
      "  Referenced from: /Library/Frameworks/Python.framework/Versions/3.7/lib/python3.7/site-packages/lightgbm/lib_lightgbm.so\n",
      "  Reason: image not found\n",
      "Hyperparameter tuning model: NeuralNetMXNet_BAG_L2 ...\n",
      "  0%|          | 0/5 [00:00<?, ?it/s]\tRan out of time, stopping training early. (Stopping on epoch 0)\n",
      "\tTime limit exceeded\n",
      "  0%|          | 0/5 [00:05<?, ?it/s]\n",
      "Fitted model: NeuralNetMXNet_BAG_L2/T0 ...\n",
      "\t-137.1352\t = Validation score   (root_mean_squared_error)\n",
      "\t4.96s\t = Training   runtime\n",
      "\t0.12s\t = Validation runtime\n",
      "Fitting model: NeuralNetMXNet_BAG_L2/T0 ... Training model for up to 215.32s of the 215.31s of remaining time.\n",
      "\tRan out of time, stopping training early. (Stopping on epoch 5)\n",
      "\tRan out of time, stopping training early. (Stopping on epoch 5)\n",
      "\tRan out of time, stopping training early. (Stopping on epoch 6)\n",
      "\tRan out of time, stopping training early. (Stopping on epoch 6)\n",
      "\tRan out of time, stopping training early. (Stopping on epoch 6)\n",
      "\tRan out of time, stopping training early. (Stopping on epoch 7)\n",
      "\tRan out of time, stopping training early. (Stopping on epoch 8)\n",
      "\tRan out of time, stopping training early. (Stopping on epoch 10)\n",
      "\tRan out of time, stopping training early. (Stopping on epoch 11)\n",
      "\t-143.3001\t = Validation score   (root_mean_squared_error)\n",
      "\t206.7s\t = Training   runtime\n",
      "\t3.71s\t = Validation runtime\n",
      "Completed 1/20 k-fold bagging repeats ...\n",
      "Fitting model: WeightedEnsemble_L3 ... Training model for up to 360.0s of the 9.79s of remaining time.\n",
      "\t-143.3001\t = Validation score   (root_mean_squared_error)\n",
      "\t0.0s\t = Training   runtime\n",
      "\t0.0s\t = Validation runtime\n",
      "AutoGluon training complete, total runtime = 590.26s ...\n",
      "TabularPredictor saved. To load, use: predictor = TabularPredictor.load(\"AutogluonModels/ag-20211130_002147/\")\n"
     ]
    }
   ],
   "source": [
    "num_trials = 5\n",
    "search_strategy = 'auto'\n",
    "hyperparameters = {\n",
    "    'NN': {'num_epochs': 20, 'batch_size': 32}, \n",
    "    'GBM': {'num_boost_round': 50}\n",
    "}\n",
    "hyperparameter_tune_kwargs = { \n",
    "    'num_trials': num_trials,\n",
    "    'scheduler' : 'local',\n",
    "    'searcher': search_strategy,\n",
    "}\n",
    "\n",
    "predictor_new_features = TabularPredictor(\n",
    "        label=\"count\", \n",
    "        problem_type=\"regression\", \n",
    "        eval_metric=\"root_mean_squared_error\", \n",
    "        learner_kwargs={\"ignored_columns\": [\"casual\", \"registered\"]}\n",
    "    ).fit(\n",
    "        train_data=train, time_limit=600, presets=\"best_quality\", hyperparameters=hyperparameters, hyperparameter_tune_kwargs=hyperparameter_tune_kwargs\n",
    ")"
   ]
  },
  {
   "cell_type": "code",
   "execution_count": 59,
   "metadata": {},
   "outputs": [
    {
     "name": "stdout",
     "output_type": "stream",
     "text": [
      "*** Summary of fit() ***\n",
      "Estimated performance of each model:\n",
      "                      model   score_val  pred_time_val    fit_time  pred_time_val_marginal  fit_time_marginal  stack_level  can_infer  fit_order\n",
      "0  NeuralNetMXNet_BAG_L1/T0 -142.639496       3.046254  369.104026                3.046254         369.104026            1       True          1\n",
      "1       WeightedEnsemble_L2 -142.639496       3.047012  369.107234                0.000758           0.003208            2       True          2\n",
      "2  NeuralNetMXNet_BAG_L2/T0 -143.300089       6.755942  575.800725                3.709688         206.696699            2       True          3\n",
      "3       WeightedEnsemble_L3 -143.300089       6.756745  575.805119                0.000803           0.004394            3       True          4\n",
      "Number of models trained: 4\n",
      "Types of models trained:\n",
      "{'StackerEnsembleModel_TabularNeuralNet', 'WeightedEnsembleModel'}\n",
      "Bagging used: True  (with 10 folds)\n",
      "Multi-layer stack-ensembling used: True  (with 3 levels)\n",
      "Feature Metadata (Processed):\n",
      "(raw dtype, special dtypes):\n",
      "('category', [])             : 2 | ['season', 'weather']\n",
      "('float', [])                : 3 | ['temp', 'atemp', 'windspeed']\n",
      "('int', [])                  : 3 | ['humidity', 'month', 'day']\n",
      "('int', ['bool'])            : 3 | ['holiday', 'workingday', 'year']\n",
      "('int', ['datetime_as_int']) : 1 | ['datetime']\n",
      "*** End of fit() summary ***\n"
     ]
    },
    {
     "name": "stderr",
     "output_type": "stream",
     "text": [
      "/Library/Frameworks/Python.framework/Versions/3.7/lib/python3.7/site-packages/autogluon/core/utils/plots.py:138: UserWarning: AutoGluon summary plots cannot be created because bokeh is not installed. To see plots, please do: \"pip install bokeh==2.0.1\"\n",
      "  warnings.warn('AutoGluon summary plots cannot be created because bokeh is not installed. To see plots, please do: \"pip install bokeh==2.0.1\"')\n"
     ]
    },
    {
     "data": {
      "text/plain": [
       "{'model_types': {'NeuralNetMXNet_BAG_L1/T0': 'StackerEnsembleModel_TabularNeuralNet',\n",
       "  'WeightedEnsemble_L2': 'WeightedEnsembleModel',\n",
       "  'NeuralNetMXNet_BAG_L2/T0': 'StackerEnsembleModel_TabularNeuralNet',\n",
       "  'WeightedEnsemble_L3': 'WeightedEnsembleModel'},\n",
       " 'model_performance': {'NeuralNetMXNet_BAG_L1/T0': -142.63949632894628,\n",
       "  'WeightedEnsemble_L2': -142.63949632894628,\n",
       "  'NeuralNetMXNet_BAG_L2/T0': -143.30008894081982,\n",
       "  'WeightedEnsemble_L3': -143.30008894081982},\n",
       " 'model_best': 'WeightedEnsemble_L2',\n",
       " 'model_paths': {'NeuralNetMXNet_BAG_L1/T0': 'AutogluonModels/ag-20211130_002147/models/NeuralNetMXNet_BAG_L1/T0/',\n",
       "  'WeightedEnsemble_L2': 'AutogluonModels/ag-20211130_002147/models/WeightedEnsemble_L2/',\n",
       "  'NeuralNetMXNet_BAG_L2/T0': 'AutogluonModels/ag-20211130_002147/models/NeuralNetMXNet_BAG_L2/T0/',\n",
       "  'WeightedEnsemble_L3': 'AutogluonModels/ag-20211130_002147/models/WeightedEnsemble_L3/'},\n",
       " 'model_fit_times': {'NeuralNetMXNet_BAG_L1/T0': 369.10402607917786,\n",
       "  'WeightedEnsemble_L2': 0.0032083988189697266,\n",
       "  'NeuralNetMXNet_BAG_L2/T0': 206.6966986656189,\n",
       "  'WeightedEnsemble_L3': 0.004393815994262695},\n",
       " 'model_pred_times': {'NeuralNetMXNet_BAG_L1/T0': 3.0462541580200195,\n",
       "  'WeightedEnsemble_L2': 0.0007581710815429688,\n",
       "  'NeuralNetMXNet_BAG_L2/T0': 3.709688186645508,\n",
       "  'WeightedEnsemble_L3': 0.0008027553558349609},\n",
       " 'num_bag_folds': 10,\n",
       " 'max_stack_level': 3,\n",
       " 'model_hyperparams': {'NeuralNetMXNet_BAG_L1/T0': {'use_orig_features': True,\n",
       "   'max_base_models': 25,\n",
       "   'max_base_models_per_type': 5,\n",
       "   'save_bag_folds': True},\n",
       "  'WeightedEnsemble_L2': {'use_orig_features': False,\n",
       "   'max_base_models': 25,\n",
       "   'max_base_models_per_type': 5,\n",
       "   'save_bag_folds': True},\n",
       "  'NeuralNetMXNet_BAG_L2/T0': {'use_orig_features': True,\n",
       "   'max_base_models': 25,\n",
       "   'max_base_models_per_type': 5,\n",
       "   'save_bag_folds': True},\n",
       "  'WeightedEnsemble_L3': {'use_orig_features': False,\n",
       "   'max_base_models': 25,\n",
       "   'max_base_models_per_type': 5,\n",
       "   'save_bag_folds': True}},\n",
       " 'leaderboard':                       model   score_val  pred_time_val    fit_time  \\\n",
       " 0  NeuralNetMXNet_BAG_L1/T0 -142.639496       3.046254  369.104026   \n",
       " 1       WeightedEnsemble_L2 -142.639496       3.047012  369.107234   \n",
       " 2  NeuralNetMXNet_BAG_L2/T0 -143.300089       6.755942  575.800725   \n",
       " 3       WeightedEnsemble_L3 -143.300089       6.756745  575.805119   \n",
       " \n",
       "    pred_time_val_marginal  fit_time_marginal  stack_level  can_infer  \\\n",
       " 0                3.046254         369.104026            1       True   \n",
       " 1                0.000758           0.003208            2       True   \n",
       " 2                3.709688         206.696699            2       True   \n",
       " 3                0.000803           0.004394            3       True   \n",
       " \n",
       "    fit_order  \n",
       " 0          1  \n",
       " 1          2  \n",
       " 2          3  \n",
       " 3          4  }"
      ]
     },
     "execution_count": 59,
     "metadata": {},
     "output_type": "execute_result"
    }
   ],
   "source": [
    "predictor_new_features.fit_summary()"
   ]
  },
  {
   "cell_type": "code",
   "execution_count": 60,
   "metadata": {},
   "outputs": [],
   "source": [
    "# Remember to set all negative values to zero\n",
    "predictions_new_features = predictor_new_features.predict(test)\n",
    "for num, val in predictions_new_features.items():\n",
    "    if val < 0:\n",
    "        predictions_new_features[num] = 0\n"
   ]
  },
  {
   "cell_type": "code",
   "execution_count": 61,
   "metadata": {},
   "outputs": [],
   "source": [
    "# Same submitting predictions\n",
    "submission_new_features = pd.read_csv('sampleSubmission.csv', parse_dates=['datetime'])\n",
    "submission_new_features[\"count\"] = predictions_new_features\n",
    "submission_new_features.to_csv(\"submission_new_features.csv\", index=False)"
   ]
  },
  {
   "cell_type": "code",
   "execution_count": 62,
   "metadata": {},
   "outputs": [
    {
     "name": "stdout",
     "output_type": "stream",
     "text": [
      "100%|█████████████████████████████████████████| 188k/188k [00:01<00:00, 129kB/s]\n",
      "Successfully submitted to Bike Sharing Demand"
     ]
    }
   ],
   "source": [
    "!kaggle competitions submit -c bike-sharing-demand -f submission_new_features.csv -m \"new features\""
   ]
  },
  {
   "cell_type": "code",
   "execution_count": 63,
   "metadata": {},
   "outputs": [
    {
     "name": "stdout",
     "output_type": "stream",
     "text": [
      "fileName                     date                 description                        status    publicScore  privateScore  \n",
      "---------------------------  -------------------  ---------------------------------  --------  -----------  ------------  \n",
      "submission_new_features.csv  2021-11-30 00:32:23  new features                       complete  1.21904      1.21904       \n",
      "submission_new_hpo.csv       2021-11-30 00:18:50  new features with hyperparameters  complete  1.22871      1.22871       \n",
      "submission_new_hpo.csv       2021-11-29 23:28:04  new features with hyperparameters  complete  1.22353      1.22353       \n",
      "submission_new_hpo.csv       2021-11-29 23:19:03  new features with hyperparameters  complete  1.55849      1.55849       \n"
     ]
    }
   ],
   "source": [
    "!kaggle competitions submissions -c bike-sharing-demand | tail -n +1 | head -n 6"
   ]
  },
  {
   "cell_type": "markdown",
   "metadata": {},
   "source": [
    "#### New Score of 1.46785 "
   ]
  },
  {
   "cell_type": "markdown",
   "metadata": {},
   "source": [
    "## Step 6: Hyper parameter optimization\n",
    "* There are many options for hyper parameter optimization.\n",
    "* Options are to change the AutoGluon higher level parameters or the individual model hyperparameters.\n",
    "* The hyperparameters of the models themselves that are in AutoGluon. Those need the `hyperparameter` and `hyperparameter_tune_kwargs` arguments."
   ]
  },
  {
   "cell_type": "code",
   "execution_count": 52,
   "metadata": {},
   "outputs": [
    {
     "name": "stderr",
     "output_type": "stream",
     "text": [
      "No path specified. Models will be saved in: \"AutogluonModels/ag-20211130_000739/\"\n",
      "Presets specified: ['best_quality']\n",
      "Warning: hyperparameter tuning is currently experimental and may cause the process to hang.\n",
      "Beginning AutoGluon training ... Time limit = 600s\n",
      "AutoGluon will save models to \"AutogluonModels/ag-20211130_000739/\"\n",
      "AutoGluon Version:  0.3.1\n",
      "Train Data Rows:    10886\n",
      "Train Data Columns: 14\n",
      "Preprocessing data ...\n",
      "Using Feature Generators to preprocess the data ...\n",
      "Dropping user-specified ignored columns: ['casual', 'registered']\n",
      "Fitting AutoMLPipelineFeatureGenerator...\n",
      "\tAvailable Memory:                    3503.38 MB\n",
      "\tTrain Data (Original)  Memory Usage: 0.89 MB (0.0% of available memory)\n",
      "\tInferring data type of each feature based on column values. Set feature_metadata_in to manually specify special dtypes of the features.\n",
      "\tStage 1 Generators:\n",
      "\t\tFitting AsTypeFeatureGenerator...\n",
      "\t\t\tNote: Converting 3 features to boolean dtype as they only contain 2 unique values.\n",
      "\tStage 2 Generators:\n",
      "\t\tFitting FillNaFeatureGenerator...\n",
      "\tStage 3 Generators:\n",
      "\t\tFitting IdentityFeatureGenerator...\n",
      "\t\tFitting CategoryFeatureGenerator...\n",
      "\t\t\tFitting CategoryMemoryMinimizeFeatureGenerator...\n",
      "\t\tFitting DatetimeFeatureGenerator...\n",
      "\tStage 4 Generators:\n",
      "\t\tFitting DropUniqueFeatureGenerator...\n",
      "\tTypes of features in original data (raw dtype, special dtypes):\n",
      "\t\t('category', []) : 2 | ['season', 'weather']\n",
      "\t\t('datetime', []) : 1 | ['datetime']\n",
      "\t\t('float', [])    : 3 | ['temp', 'atemp', 'windspeed']\n",
      "\t\t('int', [])      : 6 | ['holiday', 'workingday', 'humidity', 'year', 'month', ...]\n",
      "\tTypes of features in processed data (raw dtype, special dtypes):\n",
      "\t\t('category', [])             : 2 | ['season', 'weather']\n",
      "\t\t('float', [])                : 3 | ['temp', 'atemp', 'windspeed']\n",
      "\t\t('int', [])                  : 3 | ['humidity', 'month', 'day']\n",
      "\t\t('int', ['bool'])            : 3 | ['holiday', 'workingday', 'year']\n",
      "\t\t('int', ['datetime_as_int']) : 1 | ['datetime']\n",
      "\t0.3s = Fit runtime\n",
      "\t12 features in original data used to generate 12 features in processed data.\n",
      "\tTrain Data (Processed) Memory Usage: 0.67 MB (0.0% of available memory)\n",
      "Data preprocessing and feature engineering runtime = 0.35s ...\n",
      "AutoGluon will gauge predictive performance using evaluation metric: 'root_mean_squared_error'\n",
      "\tTo change this, specify the eval_metric argument of fit()\n",
      "AutoGluon will fit 2 stack levels (L1 to L2) ...\n",
      "Fitting 2 L1 models ...\n",
      "Hyperparameter tuning model: LightGBM_BAG_L1 ...\n",
      "Warning: Exception caused LightGBM_BAG_L1 to fail during hyperparameter tuning... Skipping this model.\n",
      "Traceback (most recent call last):\n",
      "  File \"/Library/Frameworks/Python.framework/Versions/3.7/lib/python3.7/site-packages/autogluon/core/utils/try_import.py\", line 72, in try_import_lightgbm\n",
      "    import lightgbm\n",
      "  File \"/Library/Frameworks/Python.framework/Versions/3.7/lib/python3.7/site-packages/lightgbm/__init__.py\", line 8, in <module>\n",
      "    from .basic import Booster, Dataset, Sequence, register_logger\n",
      "  File \"/Library/Frameworks/Python.framework/Versions/3.7/lib/python3.7/site-packages/lightgbm/basic.py\", line 110, in <module>\n",
      "    _LIB = _load_lib()\n",
      "  File \"/Library/Frameworks/Python.framework/Versions/3.7/lib/python3.7/site-packages/lightgbm/basic.py\", line 101, in _load_lib\n",
      "    lib = ctypes.cdll.LoadLibrary(lib_path[0])\n",
      "  File \"/Library/Frameworks/Python.framework/Versions/3.7/lib/python3.7/ctypes/__init__.py\", line 434, in LoadLibrary\n",
      "    return self._dlltype(name)\n",
      "  File \"/Library/Frameworks/Python.framework/Versions/3.7/lib/python3.7/ctypes/__init__.py\", line 356, in __init__\n",
      "    self._handle = _dlopen(self._name, mode)\n",
      "OSError: dlopen(/Library/Frameworks/Python.framework/Versions/3.7/lib/python3.7/site-packages/lightgbm/lib_lightgbm.so, 6): Library not loaded: /usr/local/opt/libomp/lib/libomp.dylib\n",
      "  Referenced from: /Library/Frameworks/Python.framework/Versions/3.7/lib/python3.7/site-packages/lightgbm/lib_lightgbm.so\n",
      "  Reason: image not found\n",
      "\n",
      "During handling of the above exception, another exception occurred:\n",
      "\n",
      "Traceback (most recent call last):\n",
      "  File \"/Library/Frameworks/Python.framework/Versions/3.7/lib/python3.7/site-packages/autogluon/tabular/trainer/abstract_trainer.py\", line 1153, in _train_single_full\n",
      "    hpo_models, hpo_model_performances, hpo_results = model.hyperparameter_tune(X=X, y=y, k_fold=k_fold, scheduler_options=hyperparameter_tune_kwargs, **model_fit_kwargs)\n",
      "  File \"/Library/Frameworks/Python.framework/Versions/3.7/lib/python3.7/site-packages/autogluon/core/models/abstract/abstract_model.py\", line 830, in hyperparameter_tune\n",
      "    return self._hyperparameter_tune(scheduler_options=scheduler_options, **kwargs)\n",
      "  File \"/Library/Frameworks/Python.framework/Versions/3.7/lib/python3.7/site-packages/autogluon/core/models/ensemble/stacker_ensemble_model.py\", line 179, in _hyperparameter_tune\n",
      "    return super()._hyperparameter_tune(X=X, y=y, k_fold=k_fold, scheduler_options=scheduler_options, preprocess_kwargs=preprocess_kwargs, **kwargs)\n",
      "  File \"/Library/Frameworks/Python.framework/Versions/3.7/lib/python3.7/site-packages/autogluon/core/models/ensemble/bagged_ensemble_model.py\", line 801, in _hyperparameter_tune\n",
      "    hpo_models, hpo_model_performances, hpo_results = self.model_base.hyperparameter_tune(X=X_fold, y=y_fold, X_val=X_val_fold, y_val=y_val_fold, scheduler_options=scheduler_options, **kwargs)\n",
      "  File \"/Library/Frameworks/Python.framework/Versions/3.7/lib/python3.7/site-packages/autogluon/core/models/abstract/abstract_model.py\", line 830, in hyperparameter_tune\n",
      "    return self._hyperparameter_tune(scheduler_options=scheduler_options, **kwargs)\n",
      "  File \"/Library/Frameworks/Python.framework/Versions/3.7/lib/python3.7/site-packages/autogluon/tabular/models/lgb/lgb_model.py\", line 348, in _hyperparameter_tune\n",
      "    dataset_train, dataset_val = self.generate_datasets(X=X, y=y, params=params_copy, X_val=X_val, y_val=y_val)\n",
      "  File \"/Library/Frameworks/Python.framework/Versions/3.7/lib/python3.7/site-packages/autogluon/tabular/models/lgb/lgb_model.py\", line 289, in generate_datasets\n",
      "    dataset_train = construct_dataset(x=X, y=y, location=f'{self.path}datasets{os.path.sep}train', params=data_params, save=save, weight=sample_weight)\n",
      "  File \"/Library/Frameworks/Python.framework/Versions/3.7/lib/python3.7/site-packages/autogluon/tabular/models/lgb/lgb_utils.py\", line 81, in construct_dataset\n",
      "    try_import_lightgbm()\n",
      "  File \"/Library/Frameworks/Python.framework/Versions/3.7/lib/python3.7/site-packages/autogluon/core/utils/try_import.py\", line 78, in try_import_lightgbm\n",
      "    \"Please try 'brew install libomp'. Detailed info: {}\".format(str(e)))\n",
      "ImportError: `import lightgbm` failed. If you are using Mac OSX, Please try 'brew install libomp'. Detailed info: dlopen(/Library/Frameworks/Python.framework/Versions/3.7/lib/python3.7/site-packages/lightgbm/lib_lightgbm.so, 6): Library not loaded: /usr/local/opt/libomp/lib/libomp.dylib\n",
      "  Referenced from: /Library/Frameworks/Python.framework/Versions/3.7/lib/python3.7/site-packages/lightgbm/lib_lightgbm.so\n",
      "  Reason: image not found\n",
      "`import lightgbm` failed. If you are using Mac OSX, Please try 'brew install libomp'. Detailed info: dlopen(/Library/Frameworks/Python.framework/Versions/3.7/lib/python3.7/site-packages/lightgbm/lib_lightgbm.so, 6): Library not loaded: /usr/local/opt/libomp/lib/libomp.dylib\n",
      "  Referenced from: /Library/Frameworks/Python.framework/Versions/3.7/lib/python3.7/site-packages/lightgbm/lib_lightgbm.so\n",
      "  Reason: image not found\n",
      "Hyperparameter tuning model: NeuralNetMXNet_BAG_L1 ...\n",
      "  0%|          | 0/5 [00:00<?, ?it/s]\tRan out of time, stopping training early. (Stopping on epoch 0)\n",
      "\tTime limit exceeded\n",
      "  0%|          | 0/5 [00:12<?, ?it/s]\n",
      "Fitted model: NeuralNetMXNet_BAG_L1/T0 ...\n",
      "\t-150.2982\t = Validation score   (root_mean_squared_error)\n",
      "\t11.14s\t = Training   runtime\n",
      "\t0.64s\t = Validation runtime\n",
      "Fitting model: NeuralNetMXNet_BAG_L1/T0 ... Training model for up to 382.78s of the 582.75s of remaining time.\n",
      "\tRan out of time, stopping training early. (Stopping on epoch 1)\n",
      "\tRan out of time, stopping training early. (Stopping on epoch 1)\n",
      "\tRan out of time, stopping training early. (Stopping on epoch 3)\n",
      "\tRan out of time, stopping training early. (Stopping on epoch 3)\n",
      "\tRan out of time, stopping training early. (Stopping on epoch 4)\n",
      "\tRan out of time, stopping training early. (Stopping on epoch 4)\n",
      "\tRan out of time, stopping training early. (Stopping on epoch 4)\n",
      "\tRan out of time, stopping training early. (Stopping on epoch 4)\n",
      "\tRan out of time, stopping training early. (Stopping on epoch 6)\n",
      "\t-147.3161\t = Validation score   (root_mean_squared_error)\n",
      "\t364.92s\t = Training   runtime\n",
      "\t8.37s\t = Validation runtime\n",
      "Completed 1/20 k-fold bagging repeats ...\n",
      "Fitting model: WeightedEnsemble_L2 ... Training model for up to 360.0s of the 220.91s of remaining time.\n",
      "\t-147.3161\t = Validation score   (root_mean_squared_error)\n",
      "\t0.01s\t = Training   runtime\n",
      "\t0.0s\t = Validation runtime\n",
      "Fitting 2 L2 models ...\n",
      "Hyperparameter tuning model: LightGBM_BAG_L2 ...\n",
      "Warning: Exception caused LightGBM_BAG_L2 to fail during hyperparameter tuning... Skipping this model.\n",
      "Traceback (most recent call last):\n",
      "  File \"/Library/Frameworks/Python.framework/Versions/3.7/lib/python3.7/site-packages/autogluon/core/utils/try_import.py\", line 72, in try_import_lightgbm\n",
      "    import lightgbm\n",
      "  File \"/Library/Frameworks/Python.framework/Versions/3.7/lib/python3.7/site-packages/lightgbm/__init__.py\", line 8, in <module>\n",
      "    from .basic import Booster, Dataset, Sequence, register_logger\n",
      "  File \"/Library/Frameworks/Python.framework/Versions/3.7/lib/python3.7/site-packages/lightgbm/basic.py\", line 110, in <module>\n",
      "    _LIB = _load_lib()\n",
      "  File \"/Library/Frameworks/Python.framework/Versions/3.7/lib/python3.7/site-packages/lightgbm/basic.py\", line 101, in _load_lib\n",
      "    lib = ctypes.cdll.LoadLibrary(lib_path[0])\n",
      "  File \"/Library/Frameworks/Python.framework/Versions/3.7/lib/python3.7/ctypes/__init__.py\", line 434, in LoadLibrary\n",
      "    return self._dlltype(name)\n",
      "  File \"/Library/Frameworks/Python.framework/Versions/3.7/lib/python3.7/ctypes/__init__.py\", line 356, in __init__\n",
      "    self._handle = _dlopen(self._name, mode)\n",
      "OSError: dlopen(/Library/Frameworks/Python.framework/Versions/3.7/lib/python3.7/site-packages/lightgbm/lib_lightgbm.so, 6): Library not loaded: /usr/local/opt/libomp/lib/libomp.dylib\n",
      "  Referenced from: /Library/Frameworks/Python.framework/Versions/3.7/lib/python3.7/site-packages/lightgbm/lib_lightgbm.so\n",
      "  Reason: image not found\n",
      "\n",
      "During handling of the above exception, another exception occurred:\n",
      "\n",
      "Traceback (most recent call last):\n",
      "  File \"/Library/Frameworks/Python.framework/Versions/3.7/lib/python3.7/site-packages/autogluon/tabular/trainer/abstract_trainer.py\", line 1153, in _train_single_full\n",
      "    hpo_models, hpo_model_performances, hpo_results = model.hyperparameter_tune(X=X, y=y, k_fold=k_fold, scheduler_options=hyperparameter_tune_kwargs, **model_fit_kwargs)\n",
      "  File \"/Library/Frameworks/Python.framework/Versions/3.7/lib/python3.7/site-packages/autogluon/core/models/abstract/abstract_model.py\", line 830, in hyperparameter_tune\n",
      "    return self._hyperparameter_tune(scheduler_options=scheduler_options, **kwargs)\n",
      "  File \"/Library/Frameworks/Python.framework/Versions/3.7/lib/python3.7/site-packages/autogluon/core/models/ensemble/stacker_ensemble_model.py\", line 179, in _hyperparameter_tune\n",
      "    return super()._hyperparameter_tune(X=X, y=y, k_fold=k_fold, scheduler_options=scheduler_options, preprocess_kwargs=preprocess_kwargs, **kwargs)\n",
      "  File \"/Library/Frameworks/Python.framework/Versions/3.7/lib/python3.7/site-packages/autogluon/core/models/ensemble/bagged_ensemble_model.py\", line 801, in _hyperparameter_tune\n",
      "    hpo_models, hpo_model_performances, hpo_results = self.model_base.hyperparameter_tune(X=X_fold, y=y_fold, X_val=X_val_fold, y_val=y_val_fold, scheduler_options=scheduler_options, **kwargs)\n",
      "  File \"/Library/Frameworks/Python.framework/Versions/3.7/lib/python3.7/site-packages/autogluon/core/models/abstract/abstract_model.py\", line 830, in hyperparameter_tune\n",
      "    return self._hyperparameter_tune(scheduler_options=scheduler_options, **kwargs)\n",
      "  File \"/Library/Frameworks/Python.framework/Versions/3.7/lib/python3.7/site-packages/autogluon/tabular/models/lgb/lgb_model.py\", line 348, in _hyperparameter_tune\n",
      "    dataset_train, dataset_val = self.generate_datasets(X=X, y=y, params=params_copy, X_val=X_val, y_val=y_val)\n",
      "  File \"/Library/Frameworks/Python.framework/Versions/3.7/lib/python3.7/site-packages/autogluon/tabular/models/lgb/lgb_model.py\", line 289, in generate_datasets\n",
      "    dataset_train = construct_dataset(x=X, y=y, location=f'{self.path}datasets{os.path.sep}train', params=data_params, save=save, weight=sample_weight)\n",
      "  File \"/Library/Frameworks/Python.framework/Versions/3.7/lib/python3.7/site-packages/autogluon/tabular/models/lgb/lgb_utils.py\", line 81, in construct_dataset\n",
      "    try_import_lightgbm()\n",
      "  File \"/Library/Frameworks/Python.framework/Versions/3.7/lib/python3.7/site-packages/autogluon/core/utils/try_import.py\", line 78, in try_import_lightgbm\n",
      "    \"Please try 'brew install libomp'. Detailed info: {}\".format(str(e)))\n",
      "ImportError: `import lightgbm` failed. If you are using Mac OSX, Please try 'brew install libomp'. Detailed info: dlopen(/Library/Frameworks/Python.framework/Versions/3.7/lib/python3.7/site-packages/lightgbm/lib_lightgbm.so, 6): Library not loaded: /usr/local/opt/libomp/lib/libomp.dylib\n",
      "  Referenced from: /Library/Frameworks/Python.framework/Versions/3.7/lib/python3.7/site-packages/lightgbm/lib_lightgbm.so\n",
      "  Reason: image not found\n",
      "`import lightgbm` failed. If you are using Mac OSX, Please try 'brew install libomp'. Detailed info: dlopen(/Library/Frameworks/Python.framework/Versions/3.7/lib/python3.7/site-packages/lightgbm/lib_lightgbm.so, 6): Library not loaded: /usr/local/opt/libomp/lib/libomp.dylib\n",
      "  Referenced from: /Library/Frameworks/Python.framework/Versions/3.7/lib/python3.7/site-packages/lightgbm/lib_lightgbm.so\n",
      "  Reason: image not found\n",
      "Hyperparameter tuning model: NeuralNetMXNet_BAG_L2 ...\n",
      "  0%|          | 0/5 [00:00<?, ?it/s]\tRan out of time, stopping training early. (Stopping on epoch 0)\n",
      "\tTime limit exceeded\n",
      "  0%|          | 0/5 [00:12<?, ?it/s]\n",
      "Fitted model: NeuralNetMXNet_BAG_L2/T0 ...\n",
      "\t-139.505\t = Validation score   (root_mean_squared_error)\n",
      "\t10.51s\t = Training   runtime\n",
      "\t0.44s\t = Validation runtime\n",
      "Fitting model: NeuralNetMXNet_BAG_L2/T0 ... Training model for up to 205.47s of the 205.37s of remaining time.\n",
      "\tRan out of time, stopping training early. (Stopping on epoch 1)\n",
      "\tRan out of time, stopping training early. (Stopping on epoch 0)\n",
      "\tRan out of time, stopping training early. (Stopping on epoch 0)\n",
      "\tRan out of time, stopping training early. (Stopping on epoch 0)\n",
      "\tRan out of time, stopping training early. (Stopping on epoch 1)\n",
      "\tRan out of time, stopping training early. (Stopping on epoch 0)\n",
      "\tRan out of time, stopping training early. (Stopping on epoch 1)\n",
      "\tRan out of time, stopping training early. (Stopping on epoch 2)\n",
      "\tRan out of time, stopping training early. (Stopping on epoch 4)\n",
      "\t-149.1815\t = Validation score   (root_mean_squared_error)\n",
      "\t195.31s\t = Training   runtime\n",
      "\t8.55s\t = Validation runtime\n",
      "Completed 1/20 k-fold bagging repeats ...\n",
      "Fitting model: WeightedEnsemble_L3 ... Training model for up to 360.0s of the 12.26s of remaining time.\n",
      "\t-149.1815\t = Validation score   (root_mean_squared_error)\n",
      "\t0.0s\t = Training   runtime\n",
      "\t0.0s\t = Validation runtime\n",
      "AutoGluon training complete, total runtime = 587.77s ...\n",
      "TabularPredictor saved. To load, use: predictor = TabularPredictor.load(\"AutogluonModels/ag-20211130_000739/\")\n"
     ]
    }
   ],
   "source": [
    "num_trials = 5\n",
    "search_strategy = 'auto'\n",
    "hyperparameters = {\n",
    "    'NN': {'num_epochs': 20, 'batch_size': 32}, \n",
    "    'GBM': {'num_boost_round': 50}\n",
    "}\n",
    "hyperparameter_tune_kwargs = { \n",
    "    'num_trials': num_trials,\n",
    "    'scheduler' : 'local',\n",
    "    'searcher': search_strategy,\n",
    "}\n",
    "\n",
    "predictor_new_hpo = TabularPredictor(\n",
    "        label=\"count\", \n",
    "        problem_type=\"regression\", \n",
    "        eval_metric=\"root_mean_squared_error\", \n",
    "        learner_kwargs={\"ignored_columns\": [\"casual\", \"registered\"]}\n",
    "    ).fit(\n",
    "        train_data=train, time_limit=600, presets=\"best_quality\", hyperparameters=hyperparameters, hyperparameter_tune_kwargs=hyperparameter_tune_kwargs\n",
    ")"
   ]
  },
  {
   "cell_type": "code",
   "execution_count": 53,
   "metadata": {},
   "outputs": [
    {
     "name": "stdout",
     "output_type": "stream",
     "text": [
      "*** Summary of fit() ***\n",
      "Estimated performance of each model:\n",
      "                      model   score_val  pred_time_val    fit_time  pred_time_val_marginal  fit_time_marginal  stack_level  can_infer  fit_order\n",
      "0  NeuralNetMXNet_BAG_L1/T0 -147.316130       8.372253  364.915462                8.372253         364.915462            1       True          1\n",
      "1       WeightedEnsemble_L2 -147.316130       8.374283  364.922389                0.002030           0.006927            2       True          2\n",
      "2  NeuralNetMXNet_BAG_L2/T0 -149.181521      16.918825  560.224124                8.546572         195.308662            2       True          3\n",
      "3       WeightedEnsemble_L3 -149.181521      16.919567  560.227685                0.000742           0.003561            3       True          4\n",
      "Number of models trained: 4\n",
      "Types of models trained:\n",
      "{'StackerEnsembleModel_TabularNeuralNet', 'WeightedEnsembleModel'}\n",
      "Bagging used: True  (with 10 folds)\n",
      "Multi-layer stack-ensembling used: True  (with 3 levels)\n",
      "Feature Metadata (Processed):\n",
      "(raw dtype, special dtypes):\n",
      "('category', [])             : 2 | ['season', 'weather']\n",
      "('float', [])                : 3 | ['temp', 'atemp', 'windspeed']\n",
      "('int', [])                  : 3 | ['humidity', 'month', 'day']\n",
      "('int', ['bool'])            : 3 | ['holiday', 'workingday', 'year']\n",
      "('int', ['datetime_as_int']) : 1 | ['datetime']\n",
      "*** End of fit() summary ***\n"
     ]
    },
    {
     "name": "stderr",
     "output_type": "stream",
     "text": [
      "/Library/Frameworks/Python.framework/Versions/3.7/lib/python3.7/site-packages/autogluon/core/utils/plots.py:138: UserWarning: AutoGluon summary plots cannot be created because bokeh is not installed. To see plots, please do: \"pip install bokeh==2.0.1\"\n",
      "  warnings.warn('AutoGluon summary plots cannot be created because bokeh is not installed. To see plots, please do: \"pip install bokeh==2.0.1\"')\n"
     ]
    },
    {
     "data": {
      "text/plain": [
       "{'model_types': {'NeuralNetMXNet_BAG_L1/T0': 'StackerEnsembleModel_TabularNeuralNet',\n",
       "  'WeightedEnsemble_L2': 'WeightedEnsembleModel',\n",
       "  'NeuralNetMXNet_BAG_L2/T0': 'StackerEnsembleModel_TabularNeuralNet',\n",
       "  'WeightedEnsemble_L3': 'WeightedEnsembleModel'},\n",
       " 'model_performance': {'NeuralNetMXNet_BAG_L1/T0': -147.31613018973675,\n",
       "  'WeightedEnsemble_L2': -147.31613018973675,\n",
       "  'NeuralNetMXNet_BAG_L2/T0': -149.18152113530493,\n",
       "  'WeightedEnsemble_L3': -149.18152113530493},\n",
       " 'model_best': 'WeightedEnsemble_L2',\n",
       " 'model_paths': {'NeuralNetMXNet_BAG_L1/T0': 'AutogluonModels/ag-20211130_000739/models/NeuralNetMXNet_BAG_L1/T0/',\n",
       "  'WeightedEnsemble_L2': 'AutogluonModels/ag-20211130_000739/models/WeightedEnsemble_L2/',\n",
       "  'NeuralNetMXNet_BAG_L2/T0': 'AutogluonModels/ag-20211130_000739/models/NeuralNetMXNet_BAG_L2/T0/',\n",
       "  'WeightedEnsemble_L3': 'AutogluonModels/ag-20211130_000739/models/WeightedEnsemble_L3/'},\n",
       " 'model_fit_times': {'NeuralNetMXNet_BAG_L1/T0': 364.9154622554779,\n",
       "  'WeightedEnsemble_L2': 0.006926774978637695,\n",
       "  'NeuralNetMXNet_BAG_L2/T0': 195.30866169929504,\n",
       "  'WeightedEnsemble_L3': 0.003560781478881836},\n",
       " 'model_pred_times': {'NeuralNetMXNet_BAG_L1/T0': 8.372252941131592,\n",
       "  'WeightedEnsemble_L2': 0.002029895782470703,\n",
       "  'NeuralNetMXNet_BAG_L2/T0': 8.546571969985962,\n",
       "  'WeightedEnsemble_L3': 0.0007421970367431641},\n",
       " 'num_bag_folds': 10,\n",
       " 'max_stack_level': 3,\n",
       " 'model_hyperparams': {'NeuralNetMXNet_BAG_L1/T0': {'use_orig_features': True,\n",
       "   'max_base_models': 25,\n",
       "   'max_base_models_per_type': 5,\n",
       "   'save_bag_folds': True},\n",
       "  'WeightedEnsemble_L2': {'use_orig_features': False,\n",
       "   'max_base_models': 25,\n",
       "   'max_base_models_per_type': 5,\n",
       "   'save_bag_folds': True},\n",
       "  'NeuralNetMXNet_BAG_L2/T0': {'use_orig_features': True,\n",
       "   'max_base_models': 25,\n",
       "   'max_base_models_per_type': 5,\n",
       "   'save_bag_folds': True},\n",
       "  'WeightedEnsemble_L3': {'use_orig_features': False,\n",
       "   'max_base_models': 25,\n",
       "   'max_base_models_per_type': 5,\n",
       "   'save_bag_folds': True}},\n",
       " 'leaderboard':                       model   score_val  pred_time_val    fit_time  \\\n",
       " 0  NeuralNetMXNet_BAG_L1/T0 -147.316130       8.372253  364.915462   \n",
       " 1       WeightedEnsemble_L2 -147.316130       8.374283  364.922389   \n",
       " 2  NeuralNetMXNet_BAG_L2/T0 -149.181521      16.918825  560.224124   \n",
       " 3       WeightedEnsemble_L3 -149.181521      16.919567  560.227685   \n",
       " \n",
       "    pred_time_val_marginal  fit_time_marginal  stack_level  can_infer  \\\n",
       " 0                8.372253         364.915462            1       True   \n",
       " 1                0.002030           0.006927            2       True   \n",
       " 2                8.546572         195.308662            2       True   \n",
       " 3                0.000742           0.003561            3       True   \n",
       " \n",
       "    fit_order  \n",
       " 0          1  \n",
       " 1          2  \n",
       " 2          3  \n",
       " 3          4  }"
      ]
     },
     "execution_count": 53,
     "metadata": {},
     "output_type": "execute_result"
    }
   ],
   "source": [
    "predictor_new_hpo.fit_summary()"
   ]
  },
  {
   "cell_type": "code",
   "execution_count": 54,
   "metadata": {},
   "outputs": [],
   "source": [
    "# Remember to set all negative values to zero\n",
    "predictions_hpo = predictor_new_hpo.predict(test)\n",
    "for num, val in predictions_hpo.items():\n",
    "    if val < 0:\n",
    "        predictions_hpo[num] = 0"
   ]
  },
  {
   "cell_type": "code",
   "execution_count": 55,
   "metadata": {},
   "outputs": [],
   "source": [
    "# Same submitting predictions\n",
    "submission_new_hpo = pd.read_csv('sampleSubmission.csv', parse_dates=['datetime'])\n",
    "submission_new_hpo[\"count\"] = predictions_hpo\n",
    "submission_new_hpo.to_csv(\"submission_new_hpo.csv\", index=False)"
   ]
  },
  {
   "cell_type": "code",
   "execution_count": 56,
   "metadata": {},
   "outputs": [
    {
     "name": "stdout",
     "output_type": "stream",
     "text": [
      "100%|█████████████████████████████████████████| 188k/188k [00:00<00:00, 195kB/s]\n",
      "Successfully submitted to Bike Sharing Demand"
     ]
    }
   ],
   "source": [
    "!kaggle competitions submit -c bike-sharing-demand -f submission_new_hpo.csv -m \"new features with hyperparameters\""
   ]
  },
  {
   "cell_type": "code",
   "execution_count": 57,
   "metadata": {},
   "outputs": [
    {
     "name": "stdout",
     "output_type": "stream",
     "text": [
      "fileName                     date                 description                        status    publicScore  privateScore  \n",
      "---------------------------  -------------------  ---------------------------------  --------  -----------  ------------  \n",
      "submission_new_hpo.csv       2021-11-30 00:18:50  new features with hyperparameters  complete  1.22871      1.22871       \n",
      "submission_new_hpo.csv       2021-11-29 23:28:04  new features with hyperparameters  complete  1.22353      1.22353       \n",
      "submission_new_hpo.csv       2021-11-29 23:19:03  new features with hyperparameters  complete  1.55849      1.55849       \n",
      "submission_new_hpo.csv       2021-11-29 22:40:09  new features with hyperparameters  complete  1.54423      1.54423       \n"
     ]
    }
   ],
   "source": [
    "!kaggle competitions submissions -c bike-sharing-demand | tail -n +1 | head -n 6"
   ]
  },
  {
   "cell_type": "markdown",
   "metadata": {},
   "source": [
    "#### New Score of  1.22353"
   ]
  },
  {
   "cell_type": "markdown",
   "metadata": {},
   "source": [
    "## Step 7: Write a Report\n",
    "### Refer to the markdown file for the full report\n",
    "### Creating plots and table for report"
   ]
  },
  {
   "cell_type": "code",
   "execution_count": 38,
   "metadata": {
    "jupyter": {
     "source_hidden": true
    }
   },
   "outputs": [
    {
     "data": {
      "image/png": "[encoded data removed]",
      "text/plain": [
       "<Figure size 576x432 with 1 Axes>"
      ]
     },
     "metadata": {
      "needs_background": "light"
     },
     "output_type": "display_data"
    }
   ],
   "source": [
    "# Taking the top model score from each training run and creating a line plot to show improvement\n",
    "# You can create these in the notebook and save them to PNG or use some other tool (e.g. google sheets, excel)\n",
    "fig = pd.DataFrame(\n",
    "    {\n",
    "        \"model\": [\"initial\", \"add_features\", \"hpo\"],\n",
    "        \"score\": [1.39422, 1.43178, 1.23409]\n",
    "    }\n",
    ").plot(x=\"model\", y=\"score\", figsize=(8, 6)).get_figure()\n",
    "fig.savefig('model_train_score.png')"
   ]
  },
  {
   "cell_type": "code",
   "execution_count": 39,
   "metadata": {},
   "outputs": [
    {
     "data": {
      "image/png": "[encoded data removed]",
      "text/plain": [
       "<Figure size 576x432 with 1 Axes>"
      ]
     },
     "metadata": {
      "needs_background": "light"
     },
     "output_type": "display_data"
    }
   ],
   "source": [
    "# Take the 3 kaggle scores and creating a line plot to show improvement\n",
    "fig = pd.DataFrame(\n",
    "    {\n",
    "        \"test_eval\": [\"initial\", \"add_features\", \"hpo\"],\n",
    "        \"score\": [1.39422, 1.46785, 1.64363]\n",
    "    }\n",
    ").plot(x=\"test_eval\", y=\"score\", figsize=(8, 6)).get_figure()\n",
    "fig.savefig('model_test_score.png')"
   ]
  },
  {
   "cell_type": "markdown",
   "metadata": {},
   "source": [
    "### Hyperparameter table"
   ]
  },
  {
   "cell_type": "code",
   "execution_count": null,
   "metadata": {},
   "outputs": [],
   "source": [
    "# The 3 hyperparameters we tuned with the kaggle score as the result\n",
    "pd.DataFrame({\n",
    "    \"model\": [\"initial\", \"add_features\", \"hpo\"],\n",
    "    \"hpo1\": [20, 20, 20],\n",
    "    \"hpo2\": [32, 32, 32],\n",
    "    \"hpo3\": [50, 50, 50],\n",
    "    \"score\": [1.23194, 1.21904, 1.22871]\n",
    "})"
   ]
  }
 ],
 "metadata": {
  "kernelspec": {
   "display_name": "Python 3",
   "language": "python",
   "name": "python3"
  },
  "language_info": {
   "codemirror_mode": {
    "name": "ipython",
    "version": 3
   },
   "file_extension": ".py",
   "mimetype": "text/x-python",
   "name": "python",
   "nbconvert_exporter": "python",
   "pygments_lexer": "ipython3",
   "version": "3.7.0"
  }
 },
 "nbformat": 4,
 "nbformat_minor": 4
}
